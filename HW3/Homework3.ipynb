{
  "nbformat": 4,
  "nbformat_minor": 0,
  "metadata": {
    "colab": {
      "name": "Homework3.ipynb",
      "provenance": [],
      "collapsed_sections": [],
      "authorship_tag": "ABX9TyO626fyzmLkGcOrUaeGKvzz",
      "include_colab_link": true
    },
    "kernelspec": {
      "name": "python3",
      "display_name": "Python 3"
    }
  },
  "cells": [
    {
      "cell_type": "markdown",
      "metadata": {
        "id": "view-in-github",
        "colab_type": "text"
      },
      "source": [
        "<a href=\"https://colab.research.google.com/github/BautistaBertolami/Cap4630AI/blob/master/HW3/Homework3.ipynb\" target=\"_parent\"><img src=\"https://colab.research.google.com/assets/colab-badge.svg\" alt=\"Open In Colab\"/></a>"
      ]
    },
    {
      "cell_type": "markdown",
      "metadata": {
        "id": "FDUEe5sP9Ron",
        "colab_type": "text"
      },
      "source": [
        "Homework 3"
      ]
    },
    {
      "cell_type": "markdown",
      "metadata": {
        "id": "2EXz5yHwwTew",
        "colab_type": "text"
      },
      "source": [
        "Problem 1"
      ]
    },
    {
      "cell_type": "markdown",
      "metadata": {
        "id": "hKTuRP0s73vv",
        "colab_type": "text"
      },
      "source": [
        "get_random_data generates two matrices, one is data, which consists of the $x1$ and $x2$ features, the other is labels wich contains either a $0$ or $1$"
      ]
    },
    {
      "cell_type": "code",
      "metadata": {
        "id": "9TxRAN91wQEC",
        "colab_type": "code",
        "colab": {}
      },
      "source": [
        "%matplotlib inline\n",
        "import matplotlib.pyplot as plt\n",
        "import numpy as np\n",
        "import math\n",
        "\n",
        "def get_random_data(w, b, mu, sigma, m):\n",
        "  labels = np.zeros((m, 1))\n",
        "  data = np.zeros((m, 2))\n",
        "\n",
        "  for i in range (0, m):\n",
        "    #stores the labels\n",
        "    c = np.random.randint(0, 2)\n",
        "    labels[i] = c\n",
        "\n",
        "    #creates the data\n",
        "    x_1 = np.random.uniform(0.0, 1.0, 1)\n",
        "    data[i][0] = x_1\n",
        "\n",
        "    #generate n according to sigma and mean mu\n",
        "    #n = np.random.uniform(mu - sigma, mu + sigma)\n",
        "    n = np.random.normal(mu, sigma)\n",
        "    x_2 = w * x_1 + b + pow(-1, c) * n\n",
        "    data[i][1] = x_2\n",
        "  \n",
        "  return data, labels\n",
        "\n",
        "\n",
        "#print(get_random_data(1, 3, 3, 5, 6)[1])\n"
      ],
      "execution_count": 0,
      "outputs": []
    },
    {
      "cell_type": "markdown",
      "metadata": {
        "id": "K-o4MglA8HSJ",
        "colab_type": "text"
      },
      "source": [
        "display_random_data plots the points according to $x1$ and $x2$, and the line is plotted according to point $x = 0$ and point $x = 1$, using $y = mx + b$"
      ]
    },
    {
      "cell_type": "code",
      "metadata": {
        "id": "_031ynlGoPSR",
        "colab_type": "code",
        "colab": {}
      },
      "source": [
        "def display_random_data(data, labels, w, b):\n",
        "  fig = plt.figure(figsize = (5, 5))\n",
        "  axs = plt.axes()\n",
        "  x = np.linspace(0, 1, 2)\n",
        "  y = x * w + b\n",
        "  plt.plot(x, y, \"green\")\n",
        "  for i in range(0, data.shape[0]):\n",
        "    color = \"red\"\n",
        "    if labels[i] == 0:\n",
        "      color = \"blue\"\n",
        "    axs.scatter(data[i][0], data[i][1], c = color)\n",
        "\n",
        "def display_trained_line(data, labels, w1, w2, b):\n",
        "  fig = plt.figure(figsize = (5, 5))\n",
        "  axs = plt.axes()\n",
        "  x = [0] * 2\n",
        "  y = [0] * 2\n",
        "  x[0] = 0\n",
        "  x[1] = 1\n",
        "  y = (-(w1 * x)-b)/w2\n",
        "\n",
        "  plt.plot(x, y, \"green\")\n",
        "  for i in range(0, data.shape[0]):\n",
        "    color = \"red\"\n",
        "    if labels[i] == 0:\n",
        "      color = \"blue\"\n",
        "    axs.scatter(data[i][0], data[i][1], c = color)"
      ],
      "execution_count": 0,
      "outputs": []
    },
    {
      "cell_type": "markdown",
      "metadata": {
        "id": "R9mrbBhO8ts4",
        "colab_type": "text"
      },
      "source": [
        "split_data splits an array into 2 arrays one of 80% of the arrays items, and the other 20% of the arrays items.\\\n",
        "This is used to split the labels and data into train_data (80% of the data), test_data (20% of the data), train_labels (80% of the labels), and test_labels(20% of the labels)"
      ]
    },
    {
      "cell_type": "code",
      "metadata": {
        "id": "QU62pDx6zgne",
        "colab_type": "code",
        "colab": {}
      },
      "source": [
        "def split_data(percent, arr):\n",
        "  split = int(arr.shape[0] * percent)\n",
        "  train = arr[:split]\n",
        "  test = arr[split:]\n",
        "  return train, test"
      ],
      "execution_count": 0,
      "outputs": []
    },
    {
      "cell_type": "markdown",
      "metadata": {
        "id": "8-BupOt9KOgd",
        "colab_type": "text"
      },
      "source": [
        "Displaying first all data, then only the test data, and finally only the train data"
      ]
    },
    {
      "cell_type": "code",
      "metadata": {
        "id": "c7P_QiwUt9N_",
        "colab_type": "code",
        "outputId": "117d013a-1623-4c7a-ed42-764194bc9c16",
        "colab": {
          "base_uri": "https://localhost:8080/",
          "height": 926
        }
      },
      "source": [
        "#generate random data\n",
        "data, labels = get_random_data(4, 1, 2, 1, 100)\n",
        "train_data, test_data = split_data(0.8, data)\n",
        "train_labels, test_labels = split_data(0.8, labels)\n",
        "\n",
        "#all data\n",
        "display_random_data(data, labels, 4, 1)\n",
        "\n",
        "#test data\n",
        "display_random_data(test_data, test_labels, 4, 1)\n",
        "\n",
        "#train data\n",
        "display_random_data(train_data, train_labels, 4, 1)"
      ],
      "execution_count": 0,
      "outputs": [
        {
          "output_type": "display_data",
          "data": {
            "image/png": "[encoded data removed]",
            "text/plain": [
              "<Figure size 360x360 with 1 Axes>"
            ]
          },
          "metadata": {
            "tags": []
          }
        },
        {
          "output_type": "display_data",
          "data": {
            "image/png": "[encoded data removed]",
            "text/plain": [
              "<Figure size 360x360 with 1 Axes>"
            ]
          },
          "metadata": {
            "tags": []
          }
        },
        {
          "output_type": "display_data",
          "data": {
            "image/png": "[encoded data removed]",
            "text/plain": [
              "<Figure size 360x360 with 1 Axes>"
            ]
          },
          "metadata": {
            "tags": []
          }
        }
      ]
    },
    {
      "cell_type": "markdown",
      "metadata": {
        "id": "yx4ANXBpoHnt",
        "colab_type": "text"
      },
      "source": [
        "Problem 2"
      ]
    },
    {
      "cell_type": "markdown",
      "metadata": {
        "id": "_VrBfCPGKLoI",
        "colab_type": "text"
      },
      "source": [
        "Creating a sequential model using the sigmoid activation function, therefore using logisitc regression with stchastic gradient descent"
      ]
    },
    {
      "cell_type": "code",
      "metadata": {
        "id": "KchKlZaqgmqY",
        "colab_type": "code",
        "outputId": "1951b4cf-3c4c-4de2-f7b8-6cf347925d85",
        "colab": {
          "base_uri": "https://localhost:8080/",
          "height": 901
        }
      },
      "source": [
        "%tensorflow_version 2.x\n",
        "import tensorflow as tf\n",
        "\n",
        "m = 80\n",
        "model = tf.keras.models.Sequential()\n",
        "model.add(tf.keras.layers.Dense(1, activation = \"sigmoid\", input_dim = 2))\n",
        "sgd = tf.keras.optimizers.SGD(learning_rate=0.01, momentum=0.0, nesterov=False)\n",
        "model.compile(optimizer=sgd, loss=\"binary_crossentropy\", metrics = [\"accuracy\"])\n",
        "\n",
        "history = model.fit(train_data, train_labels, epochs = 25)"
      ],
      "execution_count": 0,
      "outputs": [
        {
          "output_type": "stream",
          "text": [
            "Train on 80 samples\n",
            "Epoch 1/25\n",
            "80/80 [==============================] - 0s 3ms/sample - loss: 0.5527 - accuracy: 0.7500\n",
            "Epoch 2/25\n",
            "80/80 [==============================] - 0s 119us/sample - loss: 0.5449 - accuracy: 0.7500\n",
            "Epoch 3/25\n",
            "80/80 [==============================] - 0s 118us/sample - loss: 0.5380 - accuracy: 0.7500\n",
            "Epoch 4/25\n",
            "80/80 [==============================] - 0s 100us/sample - loss: 0.5317 - accuracy: 0.7500\n",
            "Epoch 5/25\n",
            "80/80 [==============================] - 0s 85us/sample - loss: 0.5250 - accuracy: 0.7500\n",
            "Epoch 6/25\n",
            "80/80 [==============================] - 0s 78us/sample - loss: 0.5192 - accuracy: 0.7500\n",
            "Epoch 7/25\n",
            "80/80 [==============================] - 0s 93us/sample - loss: 0.5131 - accuracy: 0.7500\n",
            "Epoch 8/25\n",
            "80/80 [==============================] - 0s 89us/sample - loss: 0.5065 - accuracy: 0.7500\n",
            "Epoch 9/25\n",
            "80/80 [==============================] - 0s 95us/sample - loss: 0.5007 - accuracy: 0.7500\n",
            "Epoch 10/25\n",
            "80/80 [==============================] - 0s 104us/sample - loss: 0.4947 - accuracy: 0.7625\n",
            "Epoch 11/25\n",
            "80/80 [==============================] - 0s 107us/sample - loss: 0.4895 - accuracy: 0.7625\n",
            "Epoch 12/25\n",
            "80/80 [==============================] - 0s 109us/sample - loss: 0.4843 - accuracy: 0.7625\n",
            "Epoch 13/25\n",
            "80/80 [==============================] - 0s 120us/sample - loss: 0.4795 - accuracy: 0.7750\n",
            "Epoch 14/25\n",
            "80/80 [==============================] - 0s 116us/sample - loss: 0.4738 - accuracy: 0.7875\n",
            "Epoch 15/25\n",
            "80/80 [==============================] - 0s 117us/sample - loss: 0.4678 - accuracy: 0.7875\n",
            "Epoch 16/25\n",
            "80/80 [==============================] - 0s 110us/sample - loss: 0.4625 - accuracy: 0.7875\n",
            "Epoch 17/25\n",
            "80/80 [==============================] - 0s 103us/sample - loss: 0.4569 - accuracy: 0.8000\n",
            "Epoch 18/25\n",
            "80/80 [==============================] - 0s 124us/sample - loss: 0.4525 - accuracy: 0.8000\n",
            "Epoch 19/25\n",
            "80/80 [==============================] - 0s 96us/sample - loss: 0.4479 - accuracy: 0.8000\n",
            "Epoch 20/25\n",
            "80/80 [==============================] - 0s 99us/sample - loss: 0.4432 - accuracy: 0.8000\n",
            "Epoch 21/25\n",
            "80/80 [==============================] - 0s 100us/sample - loss: 0.4394 - accuracy: 0.8000\n",
            "Epoch 22/25\n",
            "80/80 [==============================] - 0s 127us/sample - loss: 0.4360 - accuracy: 0.8000\n",
            "Epoch 23/25\n",
            "80/80 [==============================] - 0s 106us/sample - loss: 0.4324 - accuracy: 0.8000\n",
            "Epoch 24/25\n",
            "80/80 [==============================] - 0s 112us/sample - loss: 0.4287 - accuracy: 0.8000\n",
            "Epoch 25/25\n",
            "80/80 [==============================] - 0s 95us/sample - loss: 0.4256 - accuracy: 0.8000\n"
          ],
          "name": "stdout"
        }
      ]
    },
    {
      "cell_type": "markdown",
      "metadata": {
        "id": "B9C5FCw3KHrh",
        "colab_type": "text"
      },
      "source": [
        "Accuracy and Loss through different epochs, loss decreases and accuracy increases (Original code by Pawel Wocjan)"
      ]
    },
    {
      "cell_type": "code",
      "metadata": {
        "id": "3nVvxt7nUczl",
        "colab_type": "code",
        "outputId": "8cd4e8fc-b1e4-4bb0-ed03-974524150792",
        "colab": {
          "base_uri": "https://localhost:8080/",
          "height": 320
        }
      },
      "source": [
        "import pandas as pd\n",
        "import matplotlib.pyplot as plt\n",
        "from matplotlib.ticker import (AutoMinorLocator, MultipleLocator)\n",
        "\n",
        "\n",
        "pd.DataFrame(history.history).plot(figsize=(10, 5))\n",
        "plt.grid(True)\n",
        "\n",
        "plt.gca().set_ylim(0, 1.1) \n",
        "plt.gca().set_xlim(0, 24)\n",
        "\n",
        "plt.gca().xaxis.set_major_locator(MultipleLocator(2))\n",
        "\n",
        "plt.gca().xaxis.set_major_formatter(plt.FuncFormatter(lambda x, _ : int(x + 1)))\n",
        "\n",
        "plt.gca().xaxis.set_minor_locator(AutoMinorLocator(2))\n",
        "plt.gca().grid(which='minor', color='#CCCCCC', linestyle='--')\n",
        "\n",
        "plt.show()"
      ],
      "execution_count": 0,
      "outputs": [
        {
          "output_type": "display_data",
          "data": {
            "image/png": "[encoded data removed]",
            "text/plain": [
              "<Figure size 720x360 with 1 Axes>"
            ]
          },
          "metadata": {
            "tags": []
          }
        }
      ]
    },
    {
      "cell_type": "markdown",
      "metadata": {
        "id": "qfw0YVpNKFKC",
        "colab_type": "text"
      },
      "source": [
        "Separation Line"
      ]
    },
    {
      "cell_type": "code",
      "metadata": {
        "id": "iT1_T02UWWsr",
        "colab_type": "code",
        "outputId": "85402fa5-5757-4939-8c2d-7df42986b53f",
        "colab": {
          "base_uri": "https://localhost:8080/",
          "height": 407
        }
      },
      "source": [
        "weights = model.get_weights()\n",
        "print(weights)\n",
        "print(weights[0][0])\n",
        "print(weights[0][1])\n",
        "print(weights[1])\n",
        "\n",
        "display_trained_line(train_data, train_labels, weights[0][0], weights[0][1], weights[1])"
      ],
      "execution_count": 0,
      "outputs": [
        {
          "output_type": "stream",
          "text": [
            "[array([[ 0.8409815],\n",
            "       [-0.7350353]], dtype=float32), array([0.1641048], dtype=float32)]\n",
            "[0.8409815]\n",
            "[-0.7350353]\n",
            "[0.1641048]\n"
          ],
          "name": "stdout"
        },
        {
          "output_type": "display_data",
          "data": {
            "image/png": "[encoded data removed]",
            "text/plain": [
              "<Figure size 360x360 with 1 Axes>"
            ]
          },
          "metadata": {
            "tags": []
          }
        }
      ]
    },
    {
      "cell_type": "markdown",
      "metadata": {
        "id": "DCva_eq7KCv3",
        "colab_type": "text"
      },
      "source": [
        "Heatmap"
      ]
    },
    {
      "cell_type": "code",
      "metadata": {
        "id": "2-VLmvrZHffe",
        "colab_type": "code",
        "outputId": "841f92e1-8666-440e-b5fd-ad77b417387c",
        "colab": {
          "base_uri": "https://localhost:8080/",
          "height": 287
        }
      },
      "source": [
        "def sigma(z):\n",
        "  return 1 / (1 + np.exp(-z))\n",
        "  \n",
        "def f(x, y):\n",
        "  return sigma(weights[0][0] * x + weights[0][1] * y + weights[1])\n",
        "\n",
        "x = np.linspace(0, 1, 100)\n",
        "y = np.linspace(-3, 6, 100)\n",
        "\n",
        "x, y = np.meshgrid(x, y)\n",
        "z = f(x, y)\n",
        "\n",
        "plt.contourf(x, y, z, 50, cmap = 'seismic')\n",
        "plt.colorbar()"
      ],
      "execution_count": 0,
      "outputs": [
        {
          "output_type": "execute_result",
          "data": {
            "text/plain": [
              "<matplotlib.colorbar.Colorbar at 0x7f950cfe6ac8>"
            ]
          },
          "metadata": {
            "tags": []
          },
          "execution_count": 80
        },
        {
          "output_type": "display_data",
          "data": {
            "image/png": "[encoded data removed]",
            "text/plain": [
              "<Figure size 432x288 with 2 Axes>"
            ]
          },
          "metadata": {
            "tags": []
          }
        }
      ]
    },
    {
      "cell_type": "markdown",
      "metadata": {
        "id": "au53s2aXgnK0",
        "colab_type": "text"
      },
      "source": [
        "Problem 3 \\\n",
        "display_random_data2 is used to display the line of best fit using two weights instead of one like in problem 1"
      ]
    },
    {
      "cell_type": "code",
      "metadata": {
        "id": "S3MXoSuUcqL9",
        "colab_type": "code",
        "colab": {}
      },
      "source": [
        "def display_random_data2(data, labels, w1, w2, b):\n",
        "  fig = plt.figure(figsize = (5, 5))\n",
        "  axs = plt.axes()\n",
        "  x = [0] * 2\n",
        "  y = [0] * 2\n",
        "  x[0] = 0\n",
        "  x[1] = 1\n",
        "  y = (-(w1 * x)-b)/w2\n",
        "\n",
        "  plt.plot(x, y, \"magenta\")\n",
        "  for i in range(0, data.shape[0]):\n",
        "    color = \"red\"\n",
        "    if labels[i] == 0:\n",
        "      color = \"blue\"\n",
        "    axs.scatter(data[i][0], data[i][1], c = color)\n",
        "\n",
        "    "
      ],
      "execution_count": 0,
      "outputs": []
    },
    {
      "cell_type": "markdown",
      "metadata": {
        "id": "60Rbn07rNTC0",
        "colab_type": "text"
      },
      "source": [
        "Defining formulas"
      ]
    },
    {
      "cell_type": "code",
      "metadata": {
        "id": "adAkxLjKHq_H",
        "colab_type": "code",
        "colab": {}
      },
      "source": [
        "def sigma(z):\n",
        "  return 1 / (1 + np.exp(-z))\n",
        "\n",
        "def binaryCrossEntropyLoss(a, test_label):\n",
        "  return (-1 * test_label * np.log(a)) - (1 - test_label) * np.log(1 - a)"
      ],
      "execution_count": 0,
      "outputs": []
    },
    {
      "cell_type": "markdown",
      "metadata": {
        "id": "vhVM1MT7NY9N",
        "colab_type": "text"
      },
      "source": [
        "Creating and training the model"
      ]
    },
    {
      "cell_type": "code",
      "metadata": {
        "id": "2QG_LtK16EYD",
        "colab_type": "code",
        "colab": {}
      },
      "source": [
        "lr = 0.01\n",
        "epochs = 30\n",
        "\n",
        "w1 = 0\n",
        "w2 = 0\n",
        "b = 0\n",
        "loss = [0] * epochs\n",
        "accuracy = [0] * epochs\n",
        "\n",
        "for epoch in np.arange(epochs):\n",
        "  #display_random_data(data, labels, w, b)\n",
        "  for i in np.arange(80):\n",
        "    z = w1 * data[i][0] + w2 * data[i][1] + b\n",
        "    a = sigma(z)\n",
        "\n",
        "    guess = a\n",
        "    loss[epoch] += binaryCrossEntropyLoss(a, labels[i])\n",
        "    if guess > 0.5:\n",
        "      guess = 1\n",
        "    else:\n",
        "      guess = 0\n",
        "    \n",
        "    if(guess == labels[i]):\n",
        "      accuracy[epoch] +=  1\n",
        "\n",
        "    grad_w1 = (a - labels[i]) * data[i][0]\n",
        "    grad_w2 = (a - labels[i]) * data[i][1]\n",
        "    grad_b = (a - labels[i])\n",
        "    \n",
        "    w1 = w1 - (lr * grad_w1)\n",
        "    w2 = w2 - (lr * grad_w2)\n",
        "    b = b - (lr * grad_b)\n",
        "  \n",
        "  loss[epoch] = loss[epoch]/80\n",
        "  accuracy[epoch] = accuracy[epoch]/80\n"
      ],
      "execution_count": 0,
      "outputs": []
    },
    {
      "cell_type": "markdown",
      "metadata": {
        "id": "OtwQSBdgM5nH",
        "colab_type": "text"
      },
      "source": [
        "Displaying the separation line created through training (magenta) first on all data, and then on the test data only, and finally for comparison showing the line used to originally generate the data (green)"
      ]
    },
    {
      "cell_type": "code",
      "metadata": {
        "id": "xSoh_SERKtq1",
        "colab_type": "code",
        "outputId": "8af53473-6abc-41da-90fa-6165ee71dd8c",
        "colab": {
          "base_uri": "https://localhost:8080/",
          "height": 926
        }
      },
      "source": [
        "display_random_data2(data, labels, w1, w2, b)\n",
        "display_random_data2(test_data, test_labels, w1, w2, b)\n",
        "display_random_data(data, labels, 4, 1)"
      ],
      "execution_count": 0,
      "outputs": [
        {
          "output_type": "display_data",
          "data": {
            "image/png": "[encoded data removed]",
            "text/plain": [
              "<Figure size 360x360 with 1 Axes>"
            ]
          },
          "metadata": {
            "tags": []
          }
        },
        {
          "output_type": "display_data",
          "data": {
            "image/png": "[encoded data removed]",
            "text/plain": [
              "<Figure size 360x360 with 1 Axes>"
            ]
          },
          "metadata": {
            "tags": []
          }
        },
        {
          "output_type": "display_data",
          "data": {
            "image/png": "[encoded data removed]",
            "text/plain": [
              "<Figure size 360x360 with 1 Axes>"
            ]
          },
          "metadata": {
            "tags": []
          }
        }
      ]
    },
    {
      "cell_type": "markdown",
      "metadata": {
        "id": "mQIIcBmyM3M4",
        "colab_type": "text"
      },
      "source": [
        "Heatmap"
      ]
    },
    {
      "cell_type": "code",
      "metadata": {
        "id": "y5dCtbqJAkfc",
        "colab_type": "code",
        "outputId": "e810a6f3-a402-411e-f2c3-a347aa45f109",
        "colab": {
          "base_uri": "https://localhost:8080/",
          "height": 287
        }
      },
      "source": [
        "def f(x, y):\n",
        "  return sigma(w1 * x + w2 * y + b)\n",
        "\n",
        "x = np.linspace(0, 1, 100)\n",
        "y = np.linspace(0, 6, 100)\n",
        "\n",
        "x, y = np.meshgrid(x, y)\n",
        "z = f(x, y)\n",
        "\n",
        "plt.contourf(x, y, z, 50, cmap = 'seismic')\n",
        "plt.colorbar()"
      ],
      "execution_count": 0,
      "outputs": [
        {
          "output_type": "execute_result",
          "data": {
            "text/plain": [
              "<matplotlib.colorbar.Colorbar at 0x7f9509b83278>"
            ]
          },
          "metadata": {
            "tags": []
          },
          "execution_count": 91
        },
        {
          "output_type": "display_data",
          "data": {
            "image/png": "[encoded data removed]",
            "text/plain": [
              "<Figure size 432x288 with 2 Axes>"
            ]
          },
          "metadata": {
            "tags": []
          }
        }
      ]
    },
    {
      "cell_type": "markdown",
      "metadata": {
        "id": "Ics6njXQiM_2",
        "colab_type": "text"
      },
      "source": [
        "Accuracy(orange) and Loss(blue)"
      ]
    },
    {
      "cell_type": "code",
      "metadata": {
        "id": "yL5yTaxX-ceu",
        "colab_type": "code",
        "outputId": "4029e66b-6a79-4e13-f693-f9c17d81f0da",
        "colab": {
          "base_uri": "https://localhost:8080/",
          "height": 337
        }
      },
      "source": [
        "fig = plt.figure(figsize = (5, 5))\n",
        "axs = plt.axes()\n",
        "epochs = np.linspace(0, epochs, 30)\n",
        "\n",
        "plt.plot(epochs, loss)\n",
        "plt.plot(epochs, accuracy)\n"
      ],
      "execution_count": 0,
      "outputs": [
        {
          "output_type": "execute_result",
          "data": {
            "text/plain": [
              "[<matplotlib.lines.Line2D at 0x7f951081e588>]"
            ]
          },
          "metadata": {
            "tags": []
          },
          "execution_count": 92
        },
        {
          "output_type": "display_data",
          "data": {
            "image/png": "[encoded data removed]",
            "text/plain": [
              "<Figure size 360x360 with 1 Axes>"
            ]
          },
          "metadata": {
            "tags": []
          }
        }
      ]
    },
    {
      "cell_type": "code",
      "metadata": {
        "id": "4iVTB5k1-kUU",
        "colab_type": "code",
        "colab": {}
      },
      "source": [
        ""
      ],
      "execution_count": 0,
      "outputs": []
    }
  ]
}