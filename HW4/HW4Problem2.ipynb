{
  "nbformat": 4,
  "nbformat_minor": 0,
  "metadata": {
    "colab": {
      "name": "HW4Problem2 ",
      "provenance": [],
      "collapsed_sections": [],
      "authorship_tag": "ABX9TyOyP10otNFjM6NoZ+6yapbm",
      "include_colab_link": true
    },
    "kernelspec": {
      "name": "python3",
      "display_name": "Python 3"
    }
  },
  "cells": [
    {
      "cell_type": "markdown",
      "metadata": {
        "id": "view-in-github",
        "colab_type": "text"
      },
      "source": [
        "<a href=\"https://colab.research.google.com/github/BautistaBertolami/Cap4630AI/blob/master/HW4/HW4Problem2.ipynb\" target=\"_parent\"><img src=\"https://colab.research.google.com/assets/colab-badge.svg\" alt=\"Open In Colab\"/></a>"
      ]
    },
    {
      "cell_type": "markdown",
      "metadata": {
        "id": "8rrGs9wnUndg",
        "colab_type": "text"
      },
      "source": [
        "Homework 4 Problem 2 maxpooling2d using numpy"
      ]
    },
    {
      "cell_type": "code",
      "metadata": {
        "id": "398WEOLYURP8",
        "colab_type": "code",
        "colab": {}
      },
      "source": [
        "import numpy as np\n",
        "\n",
        "def applyWindow(input_mat, x, y, s, irows, icols):\n",
        "  max = 0\n",
        "\n",
        "  for r in range(0, s):\n",
        "    for c in range(0, s):\n",
        "      if(r + x < irows and c + y < icols):\n",
        "        num = input_mat[r + x][c + y]\n",
        "        if(max < num):\n",
        "          max = num \n",
        "\n",
        "  return max\n",
        "\n",
        "def maxpooling2d(input_mat, s):\n",
        "  irows = np.size(input_mat, 0)\n",
        "  icols = np.size(input_mat, 1)\n",
        "\n",
        "  if(s > irows or s > icols):\n",
        "    return []\n",
        "\n",
        "  resultMatrix = np.empty([int(np.ceil(irows/s)), int(np.ceil(icols/s))])\n",
        "\n",
        "  for r in range(0, irows, s):\n",
        "    for c in range(0, icols, s):\n",
        "      res = applyWindow(input_mat, r, c, s, irows, icols)\n",
        "      resultMatrix[int(r/2)][int(c/2)] = res\n",
        "\n",
        "  return resultMatrix"
      ],
      "execution_count": 0,
      "outputs": []
    },
    {
      "cell_type": "markdown",
      "metadata": {
        "id": "LtsZSp3aUxLN",
        "colab_type": "text"
      },
      "source": [
        "Test Cases"
      ]
    },
    {
      "cell_type": "code",
      "metadata": {
        "id": "_nvYGK5RUw6Z",
        "colab_type": "code",
        "outputId": "d62fa576-d616-40da-fc7e-315b5b3399ba",
        "colab": {
          "base_uri": "https://localhost:8080/",
          "height": 136
        }
      },
      "source": [
        "import skimage.measure\n",
        "\n",
        "input_mat = []\n",
        "expected_mat = []\n",
        "s = []\n",
        "input_mat.append(np.array([[1, 2, 1, 2],\n",
        "                      [2, 4, 2, 1],\n",
        "                      [1, 2, 4, 2],\n",
        "                      [2, 1, 2, 1]]))\n",
        "s.append(2)\n",
        "\n",
        "expected_mat.append(np.array([[4, 2],\n",
        "                                [2, 4]]))\n",
        "\n",
        "input_mat.append(np.array([[1, 2, 1, 2, 4, 5],\n",
        "                          [2, 4, 2, 1, 0, 3],\n",
        "                          [1, 2, 4, 2, 4, 5],\n",
        "                          [2, 1, 2, 1, 2, 1],\n",
        "                          [1, 1, 2, 3, 1, 2]]))\n",
        "s.append(2)\n",
        "\n",
        "expected_mat.append([[4, 2, 5],\n",
        " [2, 4, 5],\n",
        " [1, 3, 2]])\n",
        "\n",
        "\n",
        "for i in range(len(input_mat)):\n",
        "  # uncomment top line and comment second line to test code\n",
        "  output_mat = maxpooling2d(input_mat[i], s[i])\n",
        "  #output_mat = skimage.measure.block_reduce(input_mat[i], (s[i],s[i]), np.max)\n",
        "\n",
        "  print(output_mat)\n",
        "\n",
        "  if np.array_equal(output_mat, expected_mat[i]):\n",
        "    print(\"Correct output!\")\n",
        "  else:\n",
        "    print(\"Incorrect output!\")\n"
      ],
      "execution_count": 0,
      "outputs": [
        {
          "output_type": "stream",
          "text": [
            "[[4. 2.]\n",
            " [2. 4.]]\n",
            "Correct output!\n",
            "[[4. 2. 5.]\n",
            " [2. 4. 5.]\n",
            " [1. 3. 2.]]\n",
            "Correct output!\n"
          ],
          "name": "stdout"
        }
      ]
    },
    {
      "cell_type": "code",
      "metadata": {
        "id": "GhWjkYpjbx_P",
        "colab_type": "code",
        "colab": {}
      },
      "source": [
        ""
      ],
      "execution_count": 0,
      "outputs": []
    }
  ]
}