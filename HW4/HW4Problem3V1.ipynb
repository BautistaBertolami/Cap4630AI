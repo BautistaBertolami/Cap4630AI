{
  "nbformat": 4,
  "nbformat_minor": 0,
  "metadata": {
    "colab": {
      "name": "HW4Problem3V1",
      "provenance": [],
      "authorship_tag": "ABX9TyNRyIucU9Gu0DLZiRl0aOT4",
      "include_colab_link": true
    },
    "kernelspec": {
      "name": "python3",
      "display_name": "Python 3"
    },
    "accelerator": "GPU"
  },
  "cells": [
    {
      "cell_type": "markdown",
      "metadata": {
        "id": "view-in-github",
        "colab_type": "text"
      },
      "source": [
        "<a href=\"https://colab.research.google.com/github/BautistaBertolami/Cap4630AI/blob/master/HW4/HW4Problem3V1.ipynb\" target=\"_parent\"><img src=\"https://colab.research.google.com/assets/colab-badge.svg\" alt=\"Open In Colab\"/></a>"
      ]
    },
    {
      "cell_type": "markdown",
      "metadata": {
        "id": "Fx0gQWzWO_RL",
        "colab_type": "text"
      },
      "source": [
        "Example data (original code by Pawel Wocjan, adapted to xception by Bautista Bertolami"
      ]
    },
    {
      "cell_type": "code",
      "metadata": {
        "id": "fDqGRsfGO6-s",
        "colab_type": "code",
        "colab": {
          "base_uri": "https://localhost:8080/",
          "height": 208
        },
        "outputId": "3833c9dc-d191-4dd8-c8c1-fbe9e175459d"
      },
      "source": [
        "!wget --no-check-certificate \\\n",
        "    https://storage.googleapis.com/mledu-datasets/cats_and_dogs_filtered.zip \\\n",
        "    -O /tmp/cats_and_dogs_filtered.zip"
      ],
      "execution_count": 2,
      "outputs": [
        {
          "output_type": "stream",
          "text": [
            "--2020-04-21 00:43:27--  https://storage.googleapis.com/mledu-datasets/cats_and_dogs_filtered.zip\n",
            "Resolving storage.googleapis.com (storage.googleapis.com)... 172.217.4.144, 2607:f8b0:4007:80d::2010\n",
            "Connecting to storage.googleapis.com (storage.googleapis.com)|172.217.4.144|:443... connected.\n",
            "HTTP request sent, awaiting response... 200 OK\n",
            "Length: 68606236 (65M) [application/zip]\n",
            "Saving to: ‘/tmp/cats_and_dogs_filtered.zip’\n",
            "\n",
            "\r          /tmp/cats   0%[                    ]       0  --.-KB/s               \r         /tmp/cats_  45%[========>           ]  29.98M   150MB/s               \r/tmp/cats_and_dogs_ 100%[===================>]  65.43M   186MB/s    in 0.4s    \n",
            "\n",
            "2020-04-21 00:43:27 (186 MB/s) - ‘/tmp/cats_and_dogs_filtered.zip’ saved [68606236/68606236]\n",
            "\n"
          ],
          "name": "stdout"
        }
      ]
    },
    {
      "cell_type": "code",
      "metadata": {
        "id": "Epr2vxm-PFCg",
        "colab_type": "code",
        "colab": {}
      },
      "source": [
        "import os\n",
        "import zipfile\n",
        "\n",
        "local_zip = '/tmp/cats_and_dogs_filtered.zip'\n",
        "zip_ref = zipfile.ZipFile(local_zip, 'r')\n",
        "zip_ref.extractall('/tmp')\n",
        "zip_ref.close()"
      ],
      "execution_count": 0,
      "outputs": []
    },
    {
      "cell_type": "code",
      "metadata": {
        "id": "vi_ufiJiPIiJ",
        "colab_type": "code",
        "colab": {}
      },
      "source": [
        "base_dir = '/tmp/cats_and_dogs_filtered'\n",
        "train_dir = os.path.join(base_dir, 'train')\n",
        "validation_dir = os.path.join(base_dir, 'validation')\n",
        "\n",
        "# Directory with our training cat pictures\n",
        "train_cats_dir = os.path.join(train_dir, 'cats')\n",
        "\n",
        "# Directory with our training dog pictures\n",
        "train_dogs_dir = os.path.join(train_dir, 'dogs')\n",
        "\n",
        "# Directory with our validation cat pictures\n",
        "validation_cats_dir = os.path.join(validation_dir, 'cats')\n",
        "\n",
        "# Directory with our validation dog pictures\n",
        "validation_dogs_dir = os.path.join(validation_dir, 'dogs')"
      ],
      "execution_count": 0,
      "outputs": []
    },
    {
      "cell_type": "markdown",
      "metadata": {
        "id": "MFJ5p1_EPMr-",
        "colab_type": "text"
      },
      "source": [
        "Building a network with Xception"
      ]
    },
    {
      "cell_type": "code",
      "metadata": {
        "id": "YwXjlM_nPapD",
        "colab_type": "code",
        "colab": {
          "base_uri": "https://localhost:8080/",
          "height": 69
        },
        "outputId": "bc58d9c0-b54b-47eb-9d29-0230890edb96"
      },
      "source": [
        "from keras.applications import Xception\n",
        "\n",
        "conv_base = Xception(\n",
        "    include_top=False,\n",
        "    weights='imagenet',\n",
        "    input_tensor=None,\n",
        "    input_shape=(150, 150, 3))"
      ],
      "execution_count": 5,
      "outputs": [
        {
          "output_type": "stream",
          "text": [
            "Using TensorFlow backend.\n"
          ],
          "name": "stderr"
        },
        {
          "output_type": "stream",
          "text": [
            "Downloading data from https://github.com/fchollet/deep-learning-models/releases/download/v0.4/xception_weights_tf_dim_ordering_tf_kernels_notop.h5\n",
            "83689472/83683744 [==============================] - 2s 0us/step\n"
          ],
          "name": "stdout"
        }
      ]
    },
    {
      "cell_type": "markdown",
      "metadata": {
        "id": "PpiswwzQSJQP",
        "colab_type": "text"
      },
      "source": [
        "Freeze conv base"
      ]
    },
    {
      "cell_type": "code",
      "metadata": {
        "id": "_oCCTA9ESIS1",
        "colab_type": "code",
        "colab": {}
      },
      "source": [
        "conv_base.trainable = False"
      ],
      "execution_count": 0,
      "outputs": []
    },
    {
      "cell_type": "markdown",
      "metadata": {
        "id": "RsCZE6XoWOvQ",
        "colab_type": "text"
      },
      "source": [
        "Concatenate the base and dense layers"
      ]
    },
    {
      "cell_type": "code",
      "metadata": {
        "id": "_BCZxKYhWTRK",
        "colab_type": "code",
        "colab": {}
      },
      "source": [
        "from keras import layers\n",
        "from keras import models\n",
        "from keras import optimizers\n",
        "\n",
        "model = models.Sequential()\n",
        "model.add(conv_base)\n",
        "model.add(layers.Flatten())\n",
        "model.add(layers.Dense(256, activation='relu'))\n",
        "#model.add(layers.Dropout(0.1))\n",
        "model.add(layers.Dense(1, activation='sigmoid'))"
      ],
      "execution_count": 0,
      "outputs": []
    },
    {
      "cell_type": "code",
      "metadata": {
        "id": "Xz2UUs1_WYeX",
        "colab_type": "code",
        "colab": {
          "base_uri": "https://localhost:8080/",
          "height": 295
        },
        "outputId": "d30dbfb9-2b9f-45f5-d47c-d437122d794c"
      },
      "source": [
        "model.summary()"
      ],
      "execution_count": 8,
      "outputs": [
        {
          "output_type": "stream",
          "text": [
            "Model: \"sequential_1\"\n",
            "_________________________________________________________________\n",
            "Layer (type)                 Output Shape              Param #   \n",
            "=================================================================\n",
            "xception (Model)             (None, 5, 5, 2048)        20861480  \n",
            "_________________________________________________________________\n",
            "flatten_1 (Flatten)          (None, 51200)             0         \n",
            "_________________________________________________________________\n",
            "dense_1 (Dense)              (None, 256)               13107456  \n",
            "_________________________________________________________________\n",
            "dense_2 (Dense)              (None, 1)                 257       \n",
            "=================================================================\n",
            "Total params: 33,969,193\n",
            "Trainable params: 13,107,713\n",
            "Non-trainable params: 20,861,480\n",
            "_________________________________________________________________\n"
          ],
          "name": "stdout"
        }
      ]
    },
    {
      "cell_type": "markdown",
      "metadata": {
        "id": "NuWqOZGvWa5K",
        "colab_type": "text"
      },
      "source": [
        "Train the model with frozen conv base"
      ]
    },
    {
      "cell_type": "code",
      "metadata": {
        "id": "uEr6I5tsWids",
        "colab_type": "code",
        "colab": {
          "base_uri": "https://localhost:8080/",
          "height": 1000
        },
        "outputId": "8bdc5505-e833-4095-85d5-18941a5a797f"
      },
      "source": [
        "from keras.preprocessing.image import ImageDataGenerator\n",
        "from keras import optimizers\n",
        "\n",
        "# data augmentation\n",
        "\n",
        "train_datagen = ImageDataGenerator(\n",
        "    rescale=1./255, \n",
        "    rotation_range=40,\n",
        "    width_shift_range=0.2,\n",
        "    height_shift_range=0.2,\n",
        "    shear_range=0.2,\n",
        "    zoom_range=0.2,\n",
        "    horizontal_flip=True,\n",
        "    fill_mode='nearest'\n",
        ")\n",
        "\n",
        "train_generator = train_datagen.flow_from_directory(\n",
        "    train_dir,\n",
        "    target_size=(150, 150),\n",
        "    batch_size=20,\n",
        "    class_mode='binary')\n",
        "\n",
        "validation_datagen = ImageDataGenerator(rescale=1./255)\n",
        "\n",
        "validation_generator = validation_datagen.flow_from_directory(\n",
        "    validation_dir,\n",
        "    target_size=(150, 150),\n",
        "    batch_size=20,\n",
        "    class_mode='binary')\n",
        "\n",
        "# compile model\n",
        "\n",
        "model.compile(\n",
        "    loss='binary_crossentropy', \n",
        "    optimizer=optimizers.RMSprop(lr=2e-5), \n",
        "    metrics=['acc'])\n",
        "\n",
        "# train\n",
        "\n",
        "history = model.fit_generator(\n",
        "    train_generator,\n",
        "    steps_per_epoch=100,\n",
        "    epochs=30,\n",
        "    validation_data=validation_generator,\n",
        "    validation_steps=50\n",
        ")"
      ],
      "execution_count": 9,
      "outputs": [
        {
          "output_type": "stream",
          "text": [
            "Found 2000 images belonging to 2 classes.\n",
            "Found 1000 images belonging to 2 classes.\n",
            "Epoch 1/30\n",
            "100/100 [==============================] - 31s 305ms/step - loss: 0.4794 - acc: 0.7740 - val_loss: 0.8861 - val_acc: 0.9520\n",
            "Epoch 2/30\n",
            "100/100 [==============================] - 21s 208ms/step - loss: 0.3666 - acc: 0.8300 - val_loss: 0.0115 - val_acc: 0.9520\n",
            "Epoch 3/30\n",
            "100/100 [==============================] - 21s 209ms/step - loss: 0.3623 - acc: 0.8360 - val_loss: 0.5604 - val_acc: 0.9620\n",
            "Epoch 4/30\n",
            "100/100 [==============================] - 21s 207ms/step - loss: 0.3278 - acc: 0.8520 - val_loss: 0.0033 - val_acc: 0.9690\n",
            "Epoch 5/30\n",
            "100/100 [==============================] - 21s 211ms/step - loss: 0.3339 - acc: 0.8565 - val_loss: 0.0236 - val_acc: 0.9670\n",
            "Epoch 6/30\n",
            "100/100 [==============================] - 21s 209ms/step - loss: 0.3172 - acc: 0.8520 - val_loss: 0.0115 - val_acc: 0.9670\n",
            "Epoch 7/30\n",
            "100/100 [==============================] - 21s 206ms/step - loss: 0.3215 - acc: 0.8435 - val_loss: 0.3923 - val_acc: 0.9690\n",
            "Epoch 8/30\n",
            "100/100 [==============================] - 21s 206ms/step - loss: 0.3070 - acc: 0.8695 - val_loss: 6.5795e-04 - val_acc: 0.9710\n",
            "Epoch 9/30\n",
            "100/100 [==============================] - 21s 208ms/step - loss: 0.2876 - acc: 0.8725 - val_loss: 0.1139 - val_acc: 0.9630\n",
            "Epoch 10/30\n",
            "100/100 [==============================] - 21s 207ms/step - loss: 0.3208 - acc: 0.8585 - val_loss: 0.1167 - val_acc: 0.9660\n",
            "Epoch 11/30\n",
            "100/100 [==============================] - 21s 207ms/step - loss: 0.2881 - acc: 0.8655 - val_loss: 4.1090e-06 - val_acc: 0.9480\n",
            "Epoch 12/30\n",
            "100/100 [==============================] - 21s 208ms/step - loss: 0.2921 - acc: 0.8790 - val_loss: 0.2346 - val_acc: 0.9510\n",
            "Epoch 13/30\n",
            "100/100 [==============================] - 21s 205ms/step - loss: 0.2944 - acc: 0.8740 - val_loss: 0.0274 - val_acc: 0.9710\n",
            "Epoch 14/30\n",
            "100/100 [==============================] - 21s 208ms/step - loss: 0.2972 - acc: 0.8740 - val_loss: 0.0390 - val_acc: 0.9670\n",
            "Epoch 15/30\n",
            "100/100 [==============================] - 21s 207ms/step - loss: 0.2797 - acc: 0.8850 - val_loss: 0.2557 - val_acc: 0.9690\n",
            "Epoch 16/30\n",
            "100/100 [==============================] - 21s 206ms/step - loss: 0.2911 - acc: 0.8755 - val_loss: 0.7186 - val_acc: 0.9680\n",
            "Epoch 17/30\n",
            "100/100 [==============================] - 21s 206ms/step - loss: 0.2859 - acc: 0.8825 - val_loss: 0.0655 - val_acc: 0.9700\n",
            "Epoch 18/30\n",
            "100/100 [==============================] - 21s 206ms/step - loss: 0.2605 - acc: 0.8920 - val_loss: 0.2950 - val_acc: 0.9700\n",
            "Epoch 19/30\n",
            "100/100 [==============================] - 21s 205ms/step - loss: 0.2955 - acc: 0.8720 - val_loss: 0.3127 - val_acc: 0.9680\n",
            "Epoch 20/30\n",
            "100/100 [==============================] - 21s 209ms/step - loss: 0.2555 - acc: 0.8870 - val_loss: 0.8688 - val_acc: 0.9700\n",
            "Epoch 21/30\n",
            "100/100 [==============================] - 21s 206ms/step - loss: 0.2591 - acc: 0.8955 - val_loss: 0.1536 - val_acc: 0.9700\n",
            "Epoch 22/30\n",
            "100/100 [==============================] - 21s 206ms/step - loss: 0.2744 - acc: 0.8750 - val_loss: 0.6080 - val_acc: 0.9690\n",
            "Epoch 23/30\n",
            "100/100 [==============================] - 21s 207ms/step - loss: 0.2563 - acc: 0.8970 - val_loss: 1.0195 - val_acc: 0.9710\n",
            "Epoch 24/30\n",
            "100/100 [==============================] - 21s 207ms/step - loss: 0.2476 - acc: 0.8945 - val_loss: 6.1670e-05 - val_acc: 0.9700\n",
            "Epoch 25/30\n",
            "100/100 [==============================] - 21s 206ms/step - loss: 0.2736 - acc: 0.8895 - val_loss: 0.0131 - val_acc: 0.9620\n",
            "Epoch 26/30\n",
            "100/100 [==============================] - 21s 207ms/step - loss: 0.2543 - acc: 0.8975 - val_loss: 0.0028 - val_acc: 0.9700\n",
            "Epoch 27/30\n",
            "100/100 [==============================] - 21s 207ms/step - loss: 0.2689 - acc: 0.8825 - val_loss: 0.1244 - val_acc: 0.9660\n",
            "Epoch 28/30\n",
            "100/100 [==============================] - 21s 207ms/step - loss: 0.2520 - acc: 0.8945 - val_loss: 0.0080 - val_acc: 0.9680\n",
            "Epoch 29/30\n",
            "100/100 [==============================] - 21s 207ms/step - loss: 0.2724 - acc: 0.8920 - val_loss: 3.3619e-05 - val_acc: 0.9640\n",
            "Epoch 30/30\n",
            "100/100 [==============================] - 20s 205ms/step - loss: 0.2597 - acc: 0.8870 - val_loss: 0.0056 - val_acc: 0.9680\n"
          ],
          "name": "stdout"
        }
      ]
    },
    {
      "cell_type": "markdown",
      "metadata": {
        "id": "5cFzzucdWk4t",
        "colab_type": "text"
      },
      "source": [
        "Display accuracy and loss"
      ]
    },
    {
      "cell_type": "code",
      "metadata": {
        "id": "n6EqgQytWoDD",
        "colab_type": "code",
        "colab": {
          "base_uri": "https://localhost:8080/",
          "height": 545
        },
        "outputId": "ec97f7e1-0c44-4b87-edbc-8e17be8d1e13"
      },
      "source": [
        "%matplotlib inline\n",
        "\n",
        "import matplotlib.pyplot as plt\n",
        "\n",
        "acc = history.history['acc']\n",
        "val_acc = history.history['val_acc']\n",
        "\n",
        "loss = history.history['loss']\n",
        "val_loss = history.history['val_loss']\n",
        "\n",
        "epochs = range(1, len(acc) + 1)\n",
        "\n",
        "# training and validation accuracy\n",
        "\n",
        "plt.plot(epochs, acc, 'bo', label='training acc')\n",
        "plt.plot(epochs, val_acc, 'b', label='validation acc')\n",
        "plt.title('training and validation accuracy')\n",
        "plt.legend()\n",
        "\n",
        "plt.figure()\n",
        "\n",
        "# training and validation loss\n",
        "\n",
        "plt.plot(epochs, loss, 'bo', label='training loss')\n",
        "plt.plot(epochs, val_loss, 'b', label='validation loss')\n",
        "plt.title('training and validation loss')\n",
        "plt.legend()\n",
        "\n",
        "plt.show()"
      ],
      "execution_count": 10,
      "outputs": [
        {
          "output_type": "display_data",
          "data": {
            "image/png": "[encoded data removed]",
            "text/plain": [
              "<Figure size 432x288 with 1 Axes>"
            ]
          },
          "metadata": {
            "tags": [],
            "needs_background": "light"
          }
        },
        {
          "output_type": "display_data",
          "data": {
            "image/png": "[encoded data removed]",
            "text/plain": [
              "<Figure size 432x288 with 1 Axes>"
            ]
          },
          "metadata": {
            "tags": [],
            "needs_background": "light"
          }
        }
      ]
    },
    {
      "cell_type": "markdown",
      "metadata": {
        "id": "0d18Lo56clzy",
        "colab_type": "text"
      },
      "source": [
        "Fine-tuning"
      ]
    },
    {
      "cell_type": "code",
      "metadata": {
        "id": "wI9mWy5Zckgg",
        "colab_type": "code",
        "colab": {}
      },
      "source": [
        "conv_base.trainable = True\n",
        "\n",
        "set_trainable = False\n",
        "for layer in conv_base.layers:\n",
        "  if layer.name == 'block3_pool':\n",
        "    set_trainable = True\n",
        "  if set_trainable:\n",
        "    layer.trainable = True\n",
        "  else:\n",
        "    layer.trainable = False"
      ],
      "execution_count": 0,
      "outputs": []
    },
    {
      "cell_type": "code",
      "metadata": {
        "id": "PR2LPZoOcunE",
        "colab_type": "code",
        "colab": {
          "base_uri": "https://localhost:8080/",
          "height": 1000
        },
        "outputId": "ebf4822b-7df3-47c6-cffb-27f6aca9d408"
      },
      "source": [
        "# compile model\n",
        "\n",
        "model.compile(\n",
        "    loss='binary_crossentropy',\n",
        "    #\n",
        "    # choose a smaller learning rate\n",
        "    #\n",
        "    optimizer=optimizers.RMSprop(lr=1e-5), \n",
        "    metrics=['acc'])\n",
        "\n",
        "# train\n",
        "\n",
        "history = model.fit_generator(\n",
        "    train_generator,\n",
        "    steps_per_epoch=100,\n",
        "    epochs=100,\n",
        "    validation_data=validation_generator,\n",
        "    validation_steps=50)"
      ],
      "execution_count": 12,
      "outputs": [
        {
          "output_type": "stream",
          "text": [
            "Epoch 1/100\n",
            "100/100 [==============================] - 37s 373ms/step - loss: 0.2436 - acc: 0.9010 - val_loss: 0.1663 - val_acc: 0.9520\n",
            "Epoch 2/100\n",
            "100/100 [==============================] - 28s 282ms/step - loss: 0.2021 - acc: 0.9105 - val_loss: 0.3261 - val_acc: 0.9350\n",
            "Epoch 3/100\n",
            "100/100 [==============================] - 28s 282ms/step - loss: 0.2122 - acc: 0.9185 - val_loss: 0.2505 - val_acc: 0.9290\n",
            "Epoch 4/100\n",
            "100/100 [==============================] - 28s 282ms/step - loss: 0.1798 - acc: 0.9275 - val_loss: 0.1070 - val_acc: 0.9520\n",
            "Epoch 5/100\n",
            "100/100 [==============================] - 28s 282ms/step - loss: 0.1811 - acc: 0.9350 - val_loss: 0.0877 - val_acc: 0.9540\n",
            "Epoch 6/100\n",
            "100/100 [==============================] - 28s 282ms/step - loss: 0.1760 - acc: 0.9370 - val_loss: 0.0173 - val_acc: 0.9360\n",
            "Epoch 7/100\n",
            "100/100 [==============================] - 28s 282ms/step - loss: 0.1565 - acc: 0.9355 - val_loss: 0.0150 - val_acc: 0.9480\n",
            "Epoch 8/100\n",
            "100/100 [==============================] - 28s 282ms/step - loss: 0.1610 - acc: 0.9380 - val_loss: 0.4545 - val_acc: 0.9460\n",
            "Epoch 9/100\n",
            "100/100 [==============================] - 28s 282ms/step - loss: 0.1376 - acc: 0.9490 - val_loss: 0.0149 - val_acc: 0.9550\n",
            "Epoch 10/100\n",
            "100/100 [==============================] - 28s 282ms/step - loss: 0.1329 - acc: 0.9510 - val_loss: 0.0150 - val_acc: 0.9490\n",
            "Epoch 11/100\n",
            "100/100 [==============================] - 28s 282ms/step - loss: 0.1297 - acc: 0.9455 - val_loss: 0.1635 - val_acc: 0.9620\n",
            "Epoch 12/100\n",
            "100/100 [==============================] - 28s 282ms/step - loss: 0.1284 - acc: 0.9530 - val_loss: 0.0291 - val_acc: 0.9440\n",
            "Epoch 13/100\n",
            "100/100 [==============================] - 28s 282ms/step - loss: 0.1057 - acc: 0.9595 - val_loss: 0.1434 - val_acc: 0.9590\n",
            "Epoch 14/100\n",
            "100/100 [==============================] - 28s 283ms/step - loss: 0.1322 - acc: 0.9555 - val_loss: 0.0010 - val_acc: 0.9610\n",
            "Epoch 15/100\n",
            "100/100 [==============================] - 28s 282ms/step - loss: 0.0954 - acc: 0.9620 - val_loss: 0.0235 - val_acc: 0.9580\n",
            "Epoch 16/100\n",
            "100/100 [==============================] - 28s 282ms/step - loss: 0.0898 - acc: 0.9660 - val_loss: 0.0256 - val_acc: 0.9620\n",
            "Epoch 17/100\n",
            "100/100 [==============================] - 28s 282ms/step - loss: 0.1177 - acc: 0.9545 - val_loss: 0.0065 - val_acc: 0.9590\n",
            "Epoch 18/100\n",
            "100/100 [==============================] - 28s 282ms/step - loss: 0.0983 - acc: 0.9645 - val_loss: 0.0116 - val_acc: 0.9570\n",
            "Epoch 19/100\n",
            "100/100 [==============================] - 28s 283ms/step - loss: 0.1033 - acc: 0.9630 - val_loss: 0.1595 - val_acc: 0.9530\n",
            "Epoch 20/100\n",
            "100/100 [==============================] - 28s 283ms/step - loss: 0.0994 - acc: 0.9610 - val_loss: 0.1380 - val_acc: 0.9570\n",
            "Epoch 21/100\n",
            "100/100 [==============================] - 28s 282ms/step - loss: 0.0741 - acc: 0.9710 - val_loss: 0.6568 - val_acc: 0.9510\n",
            "Epoch 22/100\n",
            "100/100 [==============================] - 28s 282ms/step - loss: 0.0791 - acc: 0.9710 - val_loss: 0.0226 - val_acc: 0.9660\n",
            "Epoch 23/100\n",
            "100/100 [==============================] - 28s 282ms/step - loss: 0.0913 - acc: 0.9675 - val_loss: 0.0956 - val_acc: 0.9640\n",
            "Epoch 24/100\n",
            "100/100 [==============================] - 28s 283ms/step - loss: 0.0843 - acc: 0.9725 - val_loss: 0.0097 - val_acc: 0.9700\n",
            "Epoch 25/100\n",
            "100/100 [==============================] - 28s 283ms/step - loss: 0.0738 - acc: 0.9715 - val_loss: 0.0013 - val_acc: 0.9650\n",
            "Epoch 26/100\n",
            "100/100 [==============================] - 28s 282ms/step - loss: 0.0708 - acc: 0.9770 - val_loss: 0.2067 - val_acc: 0.9590\n",
            "Epoch 27/100\n",
            "100/100 [==============================] - 28s 283ms/step - loss: 0.0672 - acc: 0.9775 - val_loss: 1.1706e-04 - val_acc: 0.9670\n",
            "Epoch 28/100\n",
            "100/100 [==============================] - 28s 282ms/step - loss: 0.0727 - acc: 0.9745 - val_loss: 0.0015 - val_acc: 0.9670\n",
            "Epoch 29/100\n",
            "100/100 [==============================] - 28s 282ms/step - loss: 0.0640 - acc: 0.9780 - val_loss: 0.1465 - val_acc: 0.9580\n",
            "Epoch 30/100\n",
            "100/100 [==============================] - 28s 282ms/step - loss: 0.0705 - acc: 0.9775 - val_loss: 0.0042 - val_acc: 0.9590\n",
            "Epoch 31/100\n",
            "100/100 [==============================] - 28s 282ms/step - loss: 0.0570 - acc: 0.9800 - val_loss: 0.0084 - val_acc: 0.9630\n",
            "Epoch 32/100\n",
            "100/100 [==============================] - 28s 282ms/step - loss: 0.0560 - acc: 0.9795 - val_loss: 0.0559 - val_acc: 0.9660\n",
            "Epoch 33/100\n",
            "100/100 [==============================] - 28s 282ms/step - loss: 0.0832 - acc: 0.9720 - val_loss: 0.0048 - val_acc: 0.9690\n",
            "Epoch 34/100\n",
            "100/100 [==============================] - 28s 282ms/step - loss: 0.0591 - acc: 0.9780 - val_loss: 0.2175 - val_acc: 0.9670\n",
            "Epoch 35/100\n",
            "100/100 [==============================] - 28s 282ms/step - loss: 0.0575 - acc: 0.9830 - val_loss: 0.1059 - val_acc: 0.9670\n",
            "Epoch 36/100\n",
            "100/100 [==============================] - 28s 282ms/step - loss: 0.0589 - acc: 0.9805 - val_loss: 0.0629 - val_acc: 0.9690\n",
            "Epoch 37/100\n",
            "100/100 [==============================] - 28s 282ms/step - loss: 0.0404 - acc: 0.9845 - val_loss: 0.0570 - val_acc: 0.9710\n",
            "Epoch 38/100\n",
            "100/100 [==============================] - 28s 282ms/step - loss: 0.0576 - acc: 0.9835 - val_loss: 0.8041 - val_acc: 0.9740\n",
            "Epoch 39/100\n",
            "100/100 [==============================] - 28s 283ms/step - loss: 0.0594 - acc: 0.9815 - val_loss: 0.5267 - val_acc: 0.9730\n",
            "Epoch 40/100\n",
            "100/100 [==============================] - 28s 281ms/step - loss: 0.0735 - acc: 0.9760 - val_loss: 0.0045 - val_acc: 0.9630\n",
            "Epoch 41/100\n",
            "100/100 [==============================] - 28s 283ms/step - loss: 0.0396 - acc: 0.9850 - val_loss: 0.0011 - val_acc: 0.9620\n",
            "Epoch 42/100\n",
            "100/100 [==============================] - 28s 283ms/step - loss: 0.0522 - acc: 0.9820 - val_loss: 3.0029e-04 - val_acc: 0.9650\n",
            "Epoch 43/100\n",
            "100/100 [==============================] - 28s 282ms/step - loss: 0.0508 - acc: 0.9835 - val_loss: 0.0029 - val_acc: 0.9760\n",
            "Epoch 44/100\n",
            "100/100 [==============================] - 28s 282ms/step - loss: 0.0501 - acc: 0.9815 - val_loss: 1.9932e-04 - val_acc: 0.9730\n",
            "Epoch 45/100\n",
            "100/100 [==============================] - 28s 282ms/step - loss: 0.0541 - acc: 0.9840 - val_loss: 0.0099 - val_acc: 0.9660\n",
            "Epoch 46/100\n",
            "100/100 [==============================] - 28s 282ms/step - loss: 0.0403 - acc: 0.9835 - val_loss: 0.3677 - val_acc: 0.9690\n",
            "Epoch 47/100\n",
            "100/100 [==============================] - 28s 283ms/step - loss: 0.0304 - acc: 0.9870 - val_loss: 0.0011 - val_acc: 0.9710\n",
            "Epoch 48/100\n",
            "100/100 [==============================] - 28s 282ms/step - loss: 0.0458 - acc: 0.9870 - val_loss: 0.4928 - val_acc: 0.9700\n",
            "Epoch 49/100\n",
            "100/100 [==============================] - 28s 283ms/step - loss: 0.0518 - acc: 0.9860 - val_loss: 2.5141e-04 - val_acc: 0.9750\n",
            "Epoch 50/100\n",
            "100/100 [==============================] - 28s 283ms/step - loss: 0.0354 - acc: 0.9870 - val_loss: 0.0191 - val_acc: 0.9740\n",
            "Epoch 51/100\n",
            "100/100 [==============================] - 28s 282ms/step - loss: 0.0379 - acc: 0.9855 - val_loss: 0.0044 - val_acc: 0.9640\n",
            "Epoch 52/100\n",
            "100/100 [==============================] - 28s 283ms/step - loss: 0.0430 - acc: 0.9860 - val_loss: 4.8284e-05 - val_acc: 0.9710\n",
            "Epoch 53/100\n",
            "100/100 [==============================] - 28s 283ms/step - loss: 0.0357 - acc: 0.9870 - val_loss: 8.3801e-04 - val_acc: 0.9750\n",
            "Epoch 54/100\n",
            "100/100 [==============================] - 28s 282ms/step - loss: 0.0556 - acc: 0.9840 - val_loss: 0.0743 - val_acc: 0.9680\n",
            "Epoch 55/100\n",
            "100/100 [==============================] - 28s 283ms/step - loss: 0.0313 - acc: 0.9885 - val_loss: 8.7265e-04 - val_acc: 0.9760\n",
            "Epoch 56/100\n",
            "100/100 [==============================] - 28s 282ms/step - loss: 0.0231 - acc: 0.9935 - val_loss: 0.7950 - val_acc: 0.9740\n",
            "Epoch 57/100\n",
            "100/100 [==============================] - 28s 283ms/step - loss: 0.0552 - acc: 0.9850 - val_loss: 0.1902 - val_acc: 0.9760\n",
            "Epoch 58/100\n",
            "100/100 [==============================] - 28s 282ms/step - loss: 0.0345 - acc: 0.9880 - val_loss: 0.2752 - val_acc: 0.9750\n",
            "Epoch 59/100\n",
            "100/100 [==============================] - 28s 282ms/step - loss: 0.0276 - acc: 0.9900 - val_loss: 0.2560 - val_acc: 0.9770\n",
            "Epoch 60/100\n",
            "100/100 [==============================] - 28s 282ms/step - loss: 0.0355 - acc: 0.9890 - val_loss: 0.1804 - val_acc: 0.9730\n",
            "Epoch 61/100\n",
            "100/100 [==============================] - 28s 282ms/step - loss: 0.0378 - acc: 0.9875 - val_loss: 0.0350 - val_acc: 0.9760\n",
            "Epoch 62/100\n",
            "100/100 [==============================] - 28s 282ms/step - loss: 0.0264 - acc: 0.9915 - val_loss: 0.1321 - val_acc: 0.9710\n",
            "Epoch 63/100\n",
            "100/100 [==============================] - 28s 283ms/step - loss: 0.0377 - acc: 0.9875 - val_loss: 8.8899e-04 - val_acc: 0.9770\n",
            "Epoch 64/100\n",
            "100/100 [==============================] - 29s 285ms/step - loss: 0.0236 - acc: 0.9935 - val_loss: 0.0823 - val_acc: 0.9670\n",
            "Epoch 65/100\n",
            "100/100 [==============================] - 28s 284ms/step - loss: 0.0335 - acc: 0.9890 - val_loss: 8.3354e-05 - val_acc: 0.9690\n",
            "Epoch 66/100\n",
            "100/100 [==============================] - 28s 283ms/step - loss: 0.0276 - acc: 0.9895 - val_loss: 0.0040 - val_acc: 0.9750\n",
            "Epoch 67/100\n",
            "100/100 [==============================] - 28s 284ms/step - loss: 0.0316 - acc: 0.9910 - val_loss: 0.1850 - val_acc: 0.9760\n",
            "Epoch 68/100\n",
            "100/100 [==============================] - 28s 283ms/step - loss: 0.0243 - acc: 0.9930 - val_loss: 0.1252 - val_acc: 0.9730\n",
            "Epoch 69/100\n",
            "100/100 [==============================] - 28s 283ms/step - loss: 0.0346 - acc: 0.9885 - val_loss: 0.0137 - val_acc: 0.9670\n",
            "Epoch 70/100\n",
            "100/100 [==============================] - 28s 283ms/step - loss: 0.0264 - acc: 0.9930 - val_loss: 0.0880 - val_acc: 0.9760\n",
            "Epoch 71/100\n",
            "100/100 [==============================] - 28s 283ms/step - loss: 0.0205 - acc: 0.9940 - val_loss: 7.0746e-05 - val_acc: 0.9730\n",
            "Epoch 72/100\n",
            "100/100 [==============================] - 28s 283ms/step - loss: 0.0112 - acc: 0.9970 - val_loss: 5.2020e-07 - val_acc: 0.9730\n",
            "Epoch 73/100\n",
            "100/100 [==============================] - 28s 283ms/step - loss: 0.0216 - acc: 0.9930 - val_loss: 2.8481e-05 - val_acc: 0.9720\n",
            "Epoch 74/100\n",
            "100/100 [==============================] - 28s 284ms/step - loss: 0.0256 - acc: 0.9910 - val_loss: 0.1565 - val_acc: 0.9740\n",
            "Epoch 75/100\n",
            "100/100 [==============================] - 28s 283ms/step - loss: 0.0136 - acc: 0.9950 - val_loss: 0.0032 - val_acc: 0.9760\n",
            "Epoch 76/100\n",
            "100/100 [==============================] - 28s 283ms/step - loss: 0.0242 - acc: 0.9925 - val_loss: 0.1271 - val_acc: 0.9740\n",
            "Epoch 77/100\n",
            "100/100 [==============================] - 28s 283ms/step - loss: 0.0297 - acc: 0.9900 - val_loss: 3.2331e-04 - val_acc: 0.9710\n",
            "Epoch 78/100\n",
            "100/100 [==============================] - 28s 283ms/step - loss: 0.0304 - acc: 0.9930 - val_loss: 1.0482 - val_acc: 0.9690\n",
            "Epoch 79/100\n",
            "100/100 [==============================] - 28s 283ms/step - loss: 0.0182 - acc: 0.9925 - val_loss: 9.1912e-05 - val_acc: 0.9770\n",
            "Epoch 80/100\n",
            "100/100 [==============================] - 28s 285ms/step - loss: 0.0287 - acc: 0.9905 - val_loss: 0.0015 - val_acc: 0.9730\n",
            "Epoch 81/100\n",
            "100/100 [==============================] - 28s 283ms/step - loss: 0.0147 - acc: 0.9965 - val_loss: 0.1883 - val_acc: 0.9790\n",
            "Epoch 82/100\n",
            "100/100 [==============================] - 28s 283ms/step - loss: 0.0159 - acc: 0.9945 - val_loss: 0.0100 - val_acc: 0.9690\n",
            "Epoch 83/100\n",
            "100/100 [==============================] - 28s 283ms/step - loss: 0.0264 - acc: 0.9935 - val_loss: 0.0011 - val_acc: 0.9770\n",
            "Epoch 84/100\n",
            "100/100 [==============================] - 28s 283ms/step - loss: 0.0088 - acc: 0.9970 - val_loss: 8.7391e-04 - val_acc: 0.9750\n",
            "Epoch 85/100\n",
            "100/100 [==============================] - 28s 283ms/step - loss: 0.0169 - acc: 0.9935 - val_loss: 0.0179 - val_acc: 0.9760\n",
            "Epoch 86/100\n",
            "100/100 [==============================] - 28s 283ms/step - loss: 0.0266 - acc: 0.9915 - val_loss: 0.3807 - val_acc: 0.9760\n",
            "Epoch 87/100\n",
            "100/100 [==============================] - 28s 283ms/step - loss: 0.0105 - acc: 0.9975 - val_loss: 1.3942e-04 - val_acc: 0.9760\n",
            "Epoch 88/100\n",
            "100/100 [==============================] - 28s 282ms/step - loss: 0.0398 - acc: 0.9895 - val_loss: 0.8360 - val_acc: 0.9760\n",
            "Epoch 89/100\n",
            "100/100 [==============================] - 28s 283ms/step - loss: 0.0173 - acc: 0.9915 - val_loss: 0.8922 - val_acc: 0.9760\n",
            "Epoch 90/100\n",
            "100/100 [==============================] - 28s 284ms/step - loss: 0.0213 - acc: 0.9940 - val_loss: 0.0135 - val_acc: 0.9770\n",
            "Epoch 91/100\n",
            "100/100 [==============================] - 28s 283ms/step - loss: 0.0286 - acc: 0.9925 - val_loss: 0.3128 - val_acc: 0.9770\n",
            "Epoch 92/100\n",
            "100/100 [==============================] - 28s 283ms/step - loss: 0.0195 - acc: 0.9940 - val_loss: 8.3432e-04 - val_acc: 0.9690\n",
            "Epoch 93/100\n",
            "100/100 [==============================] - 28s 284ms/step - loss: 0.0291 - acc: 0.9905 - val_loss: 4.4759e-04 - val_acc: 0.9760\n",
            "Epoch 94/100\n",
            "100/100 [==============================] - 28s 283ms/step - loss: 0.0184 - acc: 0.9955 - val_loss: 0.4580 - val_acc: 0.9780\n",
            "Epoch 95/100\n",
            "100/100 [==============================] - 28s 283ms/step - loss: 0.0280 - acc: 0.9935 - val_loss: 0.0339 - val_acc: 0.9780\n",
            "Epoch 96/100\n",
            "100/100 [==============================] - 28s 284ms/step - loss: 0.0095 - acc: 0.9975 - val_loss: 0.0042 - val_acc: 0.9780\n",
            "Epoch 97/100\n",
            "100/100 [==============================] - 28s 283ms/step - loss: 0.0209 - acc: 0.9935 - val_loss: 0.0017 - val_acc: 0.9780\n",
            "Epoch 98/100\n",
            "100/100 [==============================] - 28s 283ms/step - loss: 0.0062 - acc: 0.9980 - val_loss: 0.3523 - val_acc: 0.9780\n",
            "Epoch 99/100\n",
            "100/100 [==============================] - 28s 283ms/step - loss: 0.0115 - acc: 0.9970 - val_loss: 0.0306 - val_acc: 0.9790\n",
            "Epoch 100/100\n",
            "100/100 [==============================] - 28s 283ms/step - loss: 0.0131 - acc: 0.9960 - val_loss: 0.4516 - val_acc: 0.9740\n"
          ],
          "name": "stdout"
        }
      ]
    },
    {
      "cell_type": "markdown",
      "metadata": {
        "id": "N17e5BaQp3Co",
        "colab_type": "text"
      },
      "source": [
        "Fine tuning curves"
      ]
    },
    {
      "cell_type": "code",
      "metadata": {
        "id": "nWb3x9xNfWik",
        "colab_type": "code",
        "colab": {
          "base_uri": "https://localhost:8080/",
          "height": 545
        },
        "outputId": "d36f62dd-2eb5-40f3-e872-775c2c3cef60"
      },
      "source": [
        "%matplotlib inline\n",
        "\n",
        "import matplotlib.pyplot as plt\n",
        "\n",
        "acc = history.history['acc']\n",
        "val_acc = history.history['val_acc']\n",
        "\n",
        "loss = history.history['loss']\n",
        "val_loss = history.history['val_loss']\n",
        "\n",
        "epochs = range(1, len(acc) + 1)\n",
        "\n",
        "# training and validation accuracy\n",
        "\n",
        "plt.plot(epochs, acc, 'bo', label='training acc')\n",
        "plt.plot(epochs, val_acc, 'b', label='validation acc')\n",
        "plt.title('training and validation accuracy')\n",
        "plt.legend()\n",
        "\n",
        "plt.figure()\n",
        "\n",
        "# training and validation loss\n",
        "\n",
        "plt.plot(epochs, loss, 'bo', label='training loss')\n",
        "plt.plot(epochs, val_loss, 'b', label='validation loss')\n",
        "plt.title('training and validation loss')\n",
        "plt.legend()\n",
        "\n",
        "plt.show()"
      ],
      "execution_count": 13,
      "outputs": [
        {
          "output_type": "display_data",
          "data": {
            "image/png": "[encoded data removed]",
            "text/plain": [
              "<Figure size 432x288 with 1 Axes>"
            ]
          },
          "metadata": {
            "tags": [],
            "needs_background": "light"
          }
        },
        {
          "output_type": "display_data",
          "data": {
            "image/png": "[encoded data removed]",
            "text/plain": [
              "<Figure size 432x288 with 1 Axes>"
            ]
          },
          "metadata": {
            "tags": [],
            "needs_background": "light"
          }
        }
      ]
    },
    {
      "cell_type": "code",
      "metadata": {
        "id": "md9W3UC1p6qE",
        "colab_type": "code",
        "colab": {}
      },
      "source": [
        "val_loss, val_acc = model.evaluate_generator(validation_generator, steps=50)"
      ],
      "execution_count": 0,
      "outputs": []
    },
    {
      "cell_type": "code",
      "metadata": {
        "id": "XMWBpCUcqBeV",
        "colab_type": "code",
        "colab": {
          "base_uri": "https://localhost:8080/",
          "height": 52
        },
        "outputId": "4440132f-f6dc-4526-ddb5-f53bc08fc952"
      },
      "source": [
        "print(\"Validation loss:\", val_loss)\n",
        "print(\"Validation accuracy:\", val_acc)"
      ],
      "execution_count": 15,
      "outputs": [
        {
          "output_type": "stream",
          "text": [
            "Validation loss: 0.5102710127830505\n",
            "Validation accuracy: 0.9739999771118164\n"
          ],
          "name": "stdout"
        }
      ]
    },
    {
      "cell_type": "code",
      "metadata": {
        "id": "z5uhCbZIqK-I",
        "colab_type": "code",
        "colab": {}
      },
      "source": [
        ""
      ],
      "execution_count": 0,
      "outputs": []
    }
  ]
}