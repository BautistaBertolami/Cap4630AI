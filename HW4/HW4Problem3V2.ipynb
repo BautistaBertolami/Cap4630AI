{
  "nbformat": 4,
  "nbformat_minor": 0,
  "metadata": {
    "colab": {
      "name": "HW4Problem3V2",
      "provenance": [],
      "collapsed_sections": [],
      "authorship_tag": "ABX9TyPQVSgb531j9ot9KrEsNEfs",
      "include_colab_link": true
    },
    "kernelspec": {
      "name": "python3",
      "display_name": "Python 3"
    },
    "accelerator": "GPU"
  },
  "cells": [
    {
      "cell_type": "markdown",
      "metadata": {
        "id": "view-in-github",
        "colab_type": "text"
      },
      "source": [
        "<a href=\"https://colab.research.google.com/github/BautistaBertolami/Cap4630AI/blob/master/HW4/HW4Problem3V2.ipynb\" target=\"_parent\"><img src=\"https://colab.research.google.com/assets/colab-badge.svg\" alt=\"Open In Colab\"/></a>"
      ]
    },
    {
      "cell_type": "markdown",
      "metadata": {
        "id": "Fx0gQWzWO_RL",
        "colab_type": "text"
      },
      "source": [
        "Example data (original code by Pawel Wocjan, adapted to xception by Bautista Bertolami"
      ]
    },
    {
      "cell_type": "code",
      "metadata": {
        "id": "fDqGRsfGO6-s",
        "colab_type": "code",
        "outputId": "e0c8c9e8-5de4-4697-db5d-f301727658d1",
        "colab": {
          "base_uri": "https://localhost:8080/",
          "height": 208
        }
      },
      "source": [
        "!wget --no-check-certificate \\\n",
        "    https://storage.googleapis.com/mledu-datasets/cats_and_dogs_filtered.zip \\\n",
        "    -O /tmp/cats_and_dogs_filtered.zip"
      ],
      "execution_count": 1,
      "outputs": [
        {
          "output_type": "stream",
          "text": [
            "--2020-04-21 01:49:13--  https://storage.googleapis.com/mledu-datasets/cats_and_dogs_filtered.zip\n",
            "Resolving storage.googleapis.com (storage.googleapis.com)... 172.217.14.112, 2607:f8b0:4007:80d::2010\n",
            "Connecting to storage.googleapis.com (storage.googleapis.com)|172.217.14.112|:443... connected.\n",
            "HTTP request sent, awaiting response... 200 OK\n",
            "Length: 68606236 (65M) [application/zip]\n",
            "Saving to: ‘/tmp/cats_and_dogs_filtered.zip’\n",
            "\n",
            "\r          /tmp/cats   0%[                    ]       0  --.-KB/s               \r         /tmp/cats_  30%[=====>              ]  19.84M  99.2MB/s               \r/tmp/cats_and_dogs_ 100%[===================>]  65.43M   199MB/s    in 0.3s    \n",
            "\n",
            "2020-04-21 01:49:13 (199 MB/s) - ‘/tmp/cats_and_dogs_filtered.zip’ saved [68606236/68606236]\n",
            "\n"
          ],
          "name": "stdout"
        }
      ]
    },
    {
      "cell_type": "code",
      "metadata": {
        "id": "Epr2vxm-PFCg",
        "colab_type": "code",
        "colab": {}
      },
      "source": [
        "import os\n",
        "import zipfile\n",
        "\n",
        "local_zip = '/tmp/cats_and_dogs_filtered.zip'\n",
        "zip_ref = zipfile.ZipFile(local_zip, 'r')\n",
        "zip_ref.extractall('/tmp')\n",
        "zip_ref.close()"
      ],
      "execution_count": 0,
      "outputs": []
    },
    {
      "cell_type": "code",
      "metadata": {
        "id": "vi_ufiJiPIiJ",
        "colab_type": "code",
        "colab": {}
      },
      "source": [
        "base_dir = '/tmp/cats_and_dogs_filtered'\n",
        "train_dir = os.path.join(base_dir, 'train')\n",
        "validation_dir = os.path.join(base_dir, 'validation')\n",
        "\n",
        "# Directory with our training cat pictures\n",
        "train_cats_dir = os.path.join(train_dir, 'cats')\n",
        "\n",
        "# Directory with our training dog pictures\n",
        "train_dogs_dir = os.path.join(train_dir, 'dogs')\n",
        "\n",
        "# Directory with our validation cat pictures\n",
        "validation_cats_dir = os.path.join(validation_dir, 'cats')\n",
        "\n",
        "# Directory with our validation dog pictures\n",
        "validation_dogs_dir = os.path.join(validation_dir, 'dogs')"
      ],
      "execution_count": 0,
      "outputs": []
    },
    {
      "cell_type": "markdown",
      "metadata": {
        "id": "MFJ5p1_EPMr-",
        "colab_type": "text"
      },
      "source": [
        "Building a network with Xception as the base"
      ]
    },
    {
      "cell_type": "code",
      "metadata": {
        "id": "YwXjlM_nPapD",
        "colab_type": "code",
        "outputId": "f58106a6-18cc-4e10-dace-d9eb5b6270af",
        "colab": {
          "base_uri": "https://localhost:8080/",
          "height": 69
        }
      },
      "source": [
        "from keras.applications import Xception\n",
        "\n",
        "conv_base = Xception(\n",
        "    include_top=False,\n",
        "    weights='imagenet',\n",
        "    input_tensor=None,\n",
        "    input_shape=(150, 150, 3))"
      ],
      "execution_count": 4,
      "outputs": [
        {
          "output_type": "stream",
          "text": [
            "Using TensorFlow backend.\n"
          ],
          "name": "stderr"
        },
        {
          "output_type": "stream",
          "text": [
            "Downloading data from https://github.com/fchollet/deep-learning-models/releases/download/v0.4/xception_weights_tf_dim_ordering_tf_kernels_notop.h5\n",
            "83689472/83683744 [==============================] - 2s 0us/step\n"
          ],
          "name": "stdout"
        }
      ]
    },
    {
      "cell_type": "markdown",
      "metadata": {
        "id": "PpiswwzQSJQP",
        "colab_type": "text"
      },
      "source": [
        "Freeze conv base"
      ]
    },
    {
      "cell_type": "code",
      "metadata": {
        "id": "_oCCTA9ESIS1",
        "colab_type": "code",
        "colab": {}
      },
      "source": [
        "conv_base.trainable = False"
      ],
      "execution_count": 0,
      "outputs": []
    },
    {
      "cell_type": "markdown",
      "metadata": {
        "id": "RsCZE6XoWOvQ",
        "colab_type": "text"
      },
      "source": [
        "Concatenate the base and dense layers, in this version of problem 3 the model has an extra dense layer"
      ]
    },
    {
      "cell_type": "code",
      "metadata": {
        "id": "_BCZxKYhWTRK",
        "colab_type": "code",
        "colab": {}
      },
      "source": [
        "from keras import layers\n",
        "from keras import models\n",
        "from keras import optimizers\n",
        "\n",
        "model = models.Sequential()\n",
        "model.add(conv_base)\n",
        "model.add(layers.Flatten())\n",
        "model.add(layers.Dense(256, activation='relu'))\n",
        "model.add(layers.Dense(256, activation='relu')) #added extra layer difference from V1\n",
        "#model.add(layers.Dropout(0.1))\n",
        "model.add(layers.Dense(1, activation='sigmoid'))"
      ],
      "execution_count": 0,
      "outputs": []
    },
    {
      "cell_type": "code",
      "metadata": {
        "id": "Xz2UUs1_WYeX",
        "colab_type": "code",
        "outputId": "3ea4f9bf-49e0-4a41-fc97-6fe1f6a3e1ba",
        "colab": {
          "base_uri": "https://localhost:8080/",
          "height": 329
        }
      },
      "source": [
        "model.summary()"
      ],
      "execution_count": 7,
      "outputs": [
        {
          "output_type": "stream",
          "text": [
            "Model: \"sequential_1\"\n",
            "_________________________________________________________________\n",
            "Layer (type)                 Output Shape              Param #   \n",
            "=================================================================\n",
            "xception (Model)             (None, 5, 5, 2048)        20861480  \n",
            "_________________________________________________________________\n",
            "flatten_1 (Flatten)          (None, 51200)             0         \n",
            "_________________________________________________________________\n",
            "dense_1 (Dense)              (None, 256)               13107456  \n",
            "_________________________________________________________________\n",
            "dense_2 (Dense)              (None, 256)               65792     \n",
            "_________________________________________________________________\n",
            "dense_3 (Dense)              (None, 1)                 257       \n",
            "=================================================================\n",
            "Total params: 34,034,985\n",
            "Trainable params: 13,173,505\n",
            "Non-trainable params: 20,861,480\n",
            "_________________________________________________________________\n"
          ],
          "name": "stdout"
        }
      ]
    },
    {
      "cell_type": "markdown",
      "metadata": {
        "id": "NuWqOZGvWa5K",
        "colab_type": "text"
      },
      "source": [
        "Train the model with frozen conv base, and also smaller learning rate than V1"
      ]
    },
    {
      "cell_type": "code",
      "metadata": {
        "id": "uEr6I5tsWids",
        "colab_type": "code",
        "outputId": "52b7e56f-b5aa-4220-f795-5baf65230650",
        "colab": {
          "base_uri": "https://localhost:8080/",
          "height": 1000
        }
      },
      "source": [
        "from keras.preprocessing.image import ImageDataGenerator\n",
        "from keras import optimizers\n",
        "\n",
        "# data augmentation\n",
        "\n",
        "train_datagen = ImageDataGenerator(\n",
        "    rescale=1./255, \n",
        "    rotation_range=40,\n",
        "    width_shift_range=0.2,\n",
        "    height_shift_range=0.2,\n",
        "    shear_range=0.2,\n",
        "    zoom_range=0.2,\n",
        "    horizontal_flip=True,\n",
        "    fill_mode='nearest'\n",
        ")\n",
        "\n",
        "train_generator = train_datagen.flow_from_directory(\n",
        "    train_dir,\n",
        "    target_size=(150, 150),\n",
        "    batch_size=20,\n",
        "    class_mode='binary')\n",
        "\n",
        "validation_datagen = ImageDataGenerator(rescale=1./255)\n",
        "\n",
        "validation_generator = validation_datagen.flow_from_directory(\n",
        "    validation_dir,\n",
        "    target_size=(150, 150),\n",
        "    batch_size=20,\n",
        "    class_mode='binary')\n",
        "\n",
        "# compile model\n",
        "\n",
        "model.compile(\n",
        "    loss='binary_crossentropy', \n",
        "    optimizer=optimizers.RMSprop(lr=2e-7), #smaller learning rate than V1\n",
        "    metrics=['acc'])\n",
        "\n",
        "# train\n",
        "\n",
        "history = model.fit_generator(\n",
        "    train_generator,\n",
        "    steps_per_epoch=100,\n",
        "    epochs=30,\n",
        "    validation_data=validation_generator,\n",
        "    validation_steps=50\n",
        ")"
      ],
      "execution_count": 8,
      "outputs": [
        {
          "output_type": "stream",
          "text": [
            "Found 2000 images belonging to 2 classes.\n",
            "Found 1000 images belonging to 2 classes.\n",
            "Epoch 1/30\n",
            "100/100 [==============================] - 30s 298ms/step - loss: 0.6970 - acc: 0.5095 - val_loss: 0.5690 - val_acc: 0.7070\n",
            "Epoch 2/30\n",
            "100/100 [==============================] - 20s 201ms/step - loss: 0.6796 - acc: 0.5585 - val_loss: 0.5946 - val_acc: 0.7840\n",
            "Epoch 3/30\n",
            "100/100 [==============================] - 20s 201ms/step - loss: 0.6625 - acc: 0.6005 - val_loss: 0.4623 - val_acc: 0.8360\n",
            "Epoch 4/30\n",
            "100/100 [==============================] - 20s 200ms/step - loss: 0.6471 - acc: 0.6235 - val_loss: 0.4518 - val_acc: 0.8550\n",
            "Epoch 5/30\n",
            "100/100 [==============================] - 20s 201ms/step - loss: 0.6350 - acc: 0.6590 - val_loss: 0.3966 - val_acc: 0.8780\n",
            "Epoch 6/30\n",
            "100/100 [==============================] - 20s 199ms/step - loss: 0.6240 - acc: 0.6645 - val_loss: 0.3319 - val_acc: 0.8930\n",
            "Epoch 7/30\n",
            "100/100 [==============================] - 20s 199ms/step - loss: 0.6061 - acc: 0.7010 - val_loss: 0.3695 - val_acc: 0.9050\n",
            "Epoch 8/30\n",
            "100/100 [==============================] - 20s 200ms/step - loss: 0.5936 - acc: 0.7135 - val_loss: 0.3685 - val_acc: 0.9130\n",
            "Epoch 9/30\n",
            "100/100 [==============================] - 20s 201ms/step - loss: 0.5869 - acc: 0.7185 - val_loss: 0.2897 - val_acc: 0.9190\n",
            "Epoch 10/30\n",
            "100/100 [==============================] - 20s 199ms/step - loss: 0.5747 - acc: 0.7480 - val_loss: 0.2653 - val_acc: 0.9240\n",
            "Epoch 11/30\n",
            "100/100 [==============================] - 20s 199ms/step - loss: 0.5609 - acc: 0.7350 - val_loss: 0.1990 - val_acc: 0.9290\n",
            "Epoch 12/30\n",
            "100/100 [==============================] - 20s 201ms/step - loss: 0.5562 - acc: 0.7480 - val_loss: 0.2657 - val_acc: 0.9340\n",
            "Epoch 13/30\n",
            "100/100 [==============================] - 20s 202ms/step - loss: 0.5388 - acc: 0.7675 - val_loss: 0.2711 - val_acc: 0.9400\n",
            "Epoch 14/30\n",
            "100/100 [==============================] - 20s 199ms/step - loss: 0.5343 - acc: 0.7665 - val_loss: 0.2435 - val_acc: 0.9440\n",
            "Epoch 15/30\n",
            "100/100 [==============================] - 20s 200ms/step - loss: 0.5229 - acc: 0.7800 - val_loss: 0.2105 - val_acc: 0.9460\n",
            "Epoch 16/30\n",
            "100/100 [==============================] - 20s 200ms/step - loss: 0.5122 - acc: 0.7685 - val_loss: 0.2104 - val_acc: 0.9460\n",
            "Epoch 17/30\n",
            "100/100 [==============================] - 20s 200ms/step - loss: 0.5067 - acc: 0.7995 - val_loss: 0.1932 - val_acc: 0.9470\n",
            "Epoch 18/30\n",
            "100/100 [==============================] - 20s 199ms/step - loss: 0.4933 - acc: 0.8015 - val_loss: 0.1050 - val_acc: 0.9470\n",
            "Epoch 19/30\n",
            "100/100 [==============================] - 20s 198ms/step - loss: 0.4917 - acc: 0.7810 - val_loss: 0.1157 - val_acc: 0.9470\n",
            "Epoch 20/30\n",
            "100/100 [==============================] - 20s 199ms/step - loss: 0.4822 - acc: 0.7845 - val_loss: 0.1816 - val_acc: 0.9480\n",
            "Epoch 21/30\n",
            "100/100 [==============================] - 20s 199ms/step - loss: 0.4763 - acc: 0.7950 - val_loss: 0.1556 - val_acc: 0.9490\n",
            "Epoch 22/30\n",
            "100/100 [==============================] - 20s 196ms/step - loss: 0.4786 - acc: 0.7925 - val_loss: 0.2480 - val_acc: 0.9440\n",
            "Epoch 23/30\n",
            "100/100 [==============================] - 20s 196ms/step - loss: 0.4640 - acc: 0.8000 - val_loss: 0.1616 - val_acc: 0.9490\n",
            "Epoch 24/30\n",
            "100/100 [==============================] - 20s 196ms/step - loss: 0.4536 - acc: 0.7980 - val_loss: 0.1702 - val_acc: 0.9500\n",
            "Epoch 25/30\n",
            "100/100 [==============================] - 20s 196ms/step - loss: 0.4598 - acc: 0.8065 - val_loss: 0.1208 - val_acc: 0.9510\n",
            "Epoch 26/30\n",
            "100/100 [==============================] - 20s 195ms/step - loss: 0.4480 - acc: 0.8025 - val_loss: 0.1044 - val_acc: 0.9510\n",
            "Epoch 27/30\n",
            "100/100 [==============================] - 20s 197ms/step - loss: 0.4432 - acc: 0.8155 - val_loss: 0.1794 - val_acc: 0.9510\n",
            "Epoch 28/30\n",
            "100/100 [==============================] - 20s 197ms/step - loss: 0.4434 - acc: 0.7985 - val_loss: 0.1246 - val_acc: 0.9540\n",
            "Epoch 29/30\n",
            "100/100 [==============================] - 20s 196ms/step - loss: 0.4359 - acc: 0.8215 - val_loss: 0.2311 - val_acc: 0.9540\n",
            "Epoch 30/30\n",
            "100/100 [==============================] - 19s 195ms/step - loss: 0.4347 - acc: 0.8055 - val_loss: 0.1030 - val_acc: 0.9530\n"
          ],
          "name": "stdout"
        }
      ]
    },
    {
      "cell_type": "markdown",
      "metadata": {
        "id": "5cFzzucdWk4t",
        "colab_type": "text"
      },
      "source": [
        "Display accuracy and loss"
      ]
    },
    {
      "cell_type": "code",
      "metadata": {
        "id": "n6EqgQytWoDD",
        "colab_type": "code",
        "outputId": "5319788e-2937-42b8-a9a1-98958e90ae21",
        "colab": {
          "base_uri": "https://localhost:8080/",
          "height": 545
        }
      },
      "source": [
        "%matplotlib inline\n",
        "\n",
        "import matplotlib.pyplot as plt\n",
        "\n",
        "acc = history.history['acc']\n",
        "val_acc = history.history['val_acc']\n",
        "\n",
        "loss = history.history['loss']\n",
        "val_loss = history.history['val_loss']\n",
        "\n",
        "epochs = range(1, len(acc) + 1)\n",
        "\n",
        "# training and validation accuracy\n",
        "\n",
        "plt.plot(epochs, acc, 'bo', label='training acc')\n",
        "plt.plot(epochs, val_acc, 'b', label='validation acc')\n",
        "plt.title('training and validation accuracy')\n",
        "plt.legend()\n",
        "\n",
        "plt.figure()\n",
        "\n",
        "# training and validation loss\n",
        "\n",
        "plt.plot(epochs, loss, 'bo', label='training loss')\n",
        "plt.plot(epochs, val_loss, 'b', label='validation loss')\n",
        "plt.title('training and validation loss')\n",
        "plt.legend()\n",
        "\n",
        "plt.show()"
      ],
      "execution_count": 9,
      "outputs": [
        {
          "output_type": "display_data",
          "data": {
            "image/png": "[encoded data removed]",
            "text/plain": [
              "<Figure size 432x288 with 1 Axes>"
            ]
          },
          "metadata": {
            "tags": [],
            "needs_background": "light"
          }
        },
        {
          "output_type": "display_data",
          "data": {
            "image/png": "[encoded data removed]",
            "text/plain": [
              "<Figure size 432x288 with 1 Axes>"
            ]
          },
          "metadata": {
            "tags": [],
            "needs_background": "light"
          }
        }
      ]
    },
    {
      "cell_type": "markdown",
      "metadata": {
        "id": "0d18Lo56clzy",
        "colab_type": "text"
      },
      "source": [
        "Fine-tuning"
      ]
    },
    {
      "cell_type": "code",
      "metadata": {
        "id": "wI9mWy5Zckgg",
        "colab_type": "code",
        "colab": {}
      },
      "source": [
        "conv_base.trainable = True\n",
        "\n",
        "set_trainable = False\n",
        "for layer in conv_base.layers:\n",
        "  if layer.name == 'block3_pool':\n",
        "    set_trainable = True\n",
        "  if set_trainable:\n",
        "    layer.trainable = True\n",
        "  else:\n",
        "    layer.trainable = False"
      ],
      "execution_count": 0,
      "outputs": []
    },
    {
      "cell_type": "markdown",
      "metadata": {
        "id": "T5HFkgGVanVi",
        "colab_type": "text"
      },
      "source": [
        "Another difference in the model is the learning rate"
      ]
    },
    {
      "cell_type": "code",
      "metadata": {
        "id": "PR2LPZoOcunE",
        "colab_type": "code",
        "outputId": "2ae90316-8bf8-4651-ddc8-b9fd8708f275",
        "colab": {
          "base_uri": "https://localhost:8080/",
          "height": 1000
        }
      },
      "source": [
        "# compile model\n",
        "\n",
        "model.compile(\n",
        "    loss='binary_crossentropy',\n",
        "    #\n",
        "    # choose a smaller learning rate\n",
        "    #\n",
        "    optimizer=optimizers.RMSprop(lr=1e-7), #smaller learning rate than V1 \n",
        "    metrics=['acc'])\n",
        "\n",
        "# train\n",
        "\n",
        "history = model.fit_generator(\n",
        "    train_generator,\n",
        "    steps_per_epoch=100,\n",
        "    epochs=100,\n",
        "    validation_data=validation_generator,\n",
        "    validation_steps=50)"
      ],
      "execution_count": 11,
      "outputs": [
        {
          "output_type": "stream",
          "text": [
            "Epoch 1/100\n",
            "100/100 [==============================] - 37s 366ms/step - loss: 0.4253 - acc: 0.8180 - val_loss: 0.1770 - val_acc: 0.9230\n",
            "Epoch 2/100\n",
            "100/100 [==============================] - 28s 282ms/step - loss: 0.4237 - acc: 0.8200 - val_loss: 0.3272 - val_acc: 0.9130\n",
            "Epoch 3/100\n",
            "100/100 [==============================] - 28s 281ms/step - loss: 0.4258 - acc: 0.8125 - val_loss: 0.3169 - val_acc: 0.9030\n",
            "Epoch 4/100\n",
            "100/100 [==============================] - 28s 281ms/step - loss: 0.4157 - acc: 0.8195 - val_loss: 0.2592 - val_acc: 0.8980\n",
            "Epoch 5/100\n",
            "100/100 [==============================] - 28s 281ms/step - loss: 0.4256 - acc: 0.8200 - val_loss: 0.1663 - val_acc: 0.8980\n",
            "Epoch 6/100\n",
            "100/100 [==============================] - 28s 281ms/step - loss: 0.4168 - acc: 0.8155 - val_loss: 0.3412 - val_acc: 0.9010\n",
            "Epoch 7/100\n",
            "100/100 [==============================] - 28s 281ms/step - loss: 0.4134 - acc: 0.8150 - val_loss: 0.2633 - val_acc: 0.9030\n",
            "Epoch 8/100\n",
            "100/100 [==============================] - 28s 281ms/step - loss: 0.4089 - acc: 0.8310 - val_loss: 0.3019 - val_acc: 0.9020\n",
            "Epoch 9/100\n",
            "100/100 [==============================] - 28s 281ms/step - loss: 0.4124 - acc: 0.8310 - val_loss: 0.3180 - val_acc: 0.9020\n",
            "Epoch 10/100\n",
            "100/100 [==============================] - 28s 281ms/step - loss: 0.4002 - acc: 0.8240 - val_loss: 0.5163 - val_acc: 0.9030\n",
            "Epoch 11/100\n",
            "100/100 [==============================] - 28s 281ms/step - loss: 0.4079 - acc: 0.8165 - val_loss: 0.2103 - val_acc: 0.9040\n",
            "Epoch 12/100\n",
            "100/100 [==============================] - 28s 281ms/step - loss: 0.3998 - acc: 0.8265 - val_loss: 0.2835 - val_acc: 0.9070\n",
            "Epoch 13/100\n",
            "100/100 [==============================] - 28s 281ms/step - loss: 0.3981 - acc: 0.8270 - val_loss: 0.2787 - val_acc: 0.9040\n",
            "Epoch 14/100\n",
            "100/100 [==============================] - 28s 280ms/step - loss: 0.3967 - acc: 0.8230 - val_loss: 0.2323 - val_acc: 0.9050\n",
            "Epoch 15/100\n",
            "100/100 [==============================] - 28s 280ms/step - loss: 0.3957 - acc: 0.8275 - val_loss: 0.4565 - val_acc: 0.9060\n",
            "Epoch 16/100\n",
            "100/100 [==============================] - 28s 281ms/step - loss: 0.3943 - acc: 0.8375 - val_loss: 0.2969 - val_acc: 0.9060\n",
            "Epoch 17/100\n",
            "100/100 [==============================] - 28s 280ms/step - loss: 0.3780 - acc: 0.8420 - val_loss: 0.2448 - val_acc: 0.9090\n",
            "Epoch 18/100\n",
            "100/100 [==============================] - 28s 281ms/step - loss: 0.3959 - acc: 0.8350 - val_loss: 0.1533 - val_acc: 0.9090\n",
            "Epoch 19/100\n",
            "100/100 [==============================] - 28s 280ms/step - loss: 0.3829 - acc: 0.8370 - val_loss: 0.2859 - val_acc: 0.9100\n",
            "Epoch 20/100\n",
            "100/100 [==============================] - 28s 281ms/step - loss: 0.3859 - acc: 0.8250 - val_loss: 0.1939 - val_acc: 0.9080\n",
            "Epoch 21/100\n",
            "100/100 [==============================] - 28s 280ms/step - loss: 0.3857 - acc: 0.8280 - val_loss: 0.2260 - val_acc: 0.9100\n",
            "Epoch 22/100\n",
            "100/100 [==============================] - 28s 281ms/step - loss: 0.3804 - acc: 0.8350 - val_loss: 0.2437 - val_acc: 0.9090\n",
            "Epoch 23/100\n",
            "100/100 [==============================] - 28s 280ms/step - loss: 0.3813 - acc: 0.8335 - val_loss: 0.3369 - val_acc: 0.9080\n",
            "Epoch 24/100\n",
            "100/100 [==============================] - 28s 280ms/step - loss: 0.3828 - acc: 0.8245 - val_loss: 0.2770 - val_acc: 0.9110\n",
            "Epoch 25/100\n",
            "100/100 [==============================] - 28s 281ms/step - loss: 0.3746 - acc: 0.8420 - val_loss: 0.2361 - val_acc: 0.9110\n",
            "Epoch 26/100\n",
            "100/100 [==============================] - 28s 280ms/step - loss: 0.3707 - acc: 0.8370 - val_loss: 0.2249 - val_acc: 0.9140\n",
            "Epoch 27/100\n",
            "100/100 [==============================] - 28s 281ms/step - loss: 0.3732 - acc: 0.8400 - val_loss: 0.2675 - val_acc: 0.9110\n",
            "Epoch 28/100\n",
            "100/100 [==============================] - 28s 281ms/step - loss: 0.3725 - acc: 0.8275 - val_loss: 0.3090 - val_acc: 0.9140\n",
            "Epoch 29/100\n",
            "100/100 [==============================] - 28s 281ms/step - loss: 0.3619 - acc: 0.8290 - val_loss: 0.2109 - val_acc: 0.9140\n",
            "Epoch 30/100\n",
            "100/100 [==============================] - 28s 280ms/step - loss: 0.3721 - acc: 0.8390 - val_loss: 0.1876 - val_acc: 0.9130\n",
            "Epoch 31/100\n",
            "100/100 [==============================] - 28s 281ms/step - loss: 0.3733 - acc: 0.8320 - val_loss: 0.2366 - val_acc: 0.9150\n",
            "Epoch 32/100\n",
            "100/100 [==============================] - 28s 281ms/step - loss: 0.3603 - acc: 0.8470 - val_loss: 0.2199 - val_acc: 0.9120\n",
            "Epoch 33/100\n",
            "100/100 [==============================] - 28s 281ms/step - loss: 0.3750 - acc: 0.8250 - val_loss: 0.4327 - val_acc: 0.9150\n",
            "Epoch 34/100\n",
            "100/100 [==============================] - 28s 281ms/step - loss: 0.3723 - acc: 0.8345 - val_loss: 0.2312 - val_acc: 0.9140\n",
            "Epoch 35/100\n",
            "100/100 [==============================] - 28s 281ms/step - loss: 0.3645 - acc: 0.8375 - val_loss: 0.3105 - val_acc: 0.9150\n",
            "Epoch 36/100\n",
            "100/100 [==============================] - 28s 281ms/step - loss: 0.3755 - acc: 0.8415 - val_loss: 0.2172 - val_acc: 0.9140\n",
            "Epoch 37/100\n",
            "100/100 [==============================] - 28s 280ms/step - loss: 0.3497 - acc: 0.8510 - val_loss: 0.3128 - val_acc: 0.9150\n",
            "Epoch 38/100\n",
            "100/100 [==============================] - 28s 281ms/step - loss: 0.3549 - acc: 0.8430 - val_loss: 0.2232 - val_acc: 0.9150\n",
            "Epoch 39/100\n",
            "100/100 [==============================] - 28s 281ms/step - loss: 0.3613 - acc: 0.8375 - val_loss: 0.3197 - val_acc: 0.9170\n",
            "Epoch 40/100\n",
            "100/100 [==============================] - 28s 280ms/step - loss: 0.3395 - acc: 0.8620 - val_loss: 0.2422 - val_acc: 0.9140\n",
            "Epoch 41/100\n",
            "100/100 [==============================] - 28s 281ms/step - loss: 0.3531 - acc: 0.8390 - val_loss: 0.3059 - val_acc: 0.9150\n",
            "Epoch 42/100\n",
            "100/100 [==============================] - 28s 281ms/step - loss: 0.3489 - acc: 0.8490 - val_loss: 0.2032 - val_acc: 0.9160\n",
            "Epoch 43/100\n",
            "100/100 [==============================] - 28s 281ms/step - loss: 0.3572 - acc: 0.8440 - val_loss: 0.1282 - val_acc: 0.9130\n",
            "Epoch 44/100\n",
            "100/100 [==============================] - 28s 280ms/step - loss: 0.3437 - acc: 0.8485 - val_loss: 0.1912 - val_acc: 0.9150\n",
            "Epoch 45/100\n",
            "100/100 [==============================] - 28s 281ms/step - loss: 0.3515 - acc: 0.8470 - val_loss: 0.2687 - val_acc: 0.9150\n",
            "Epoch 46/100\n",
            "100/100 [==============================] - 28s 280ms/step - loss: 0.3424 - acc: 0.8600 - val_loss: 0.1710 - val_acc: 0.9160\n",
            "Epoch 47/100\n",
            "100/100 [==============================] - 28s 280ms/step - loss: 0.3358 - acc: 0.8550 - val_loss: 0.3266 - val_acc: 0.9140\n",
            "Epoch 48/100\n",
            "100/100 [==============================] - 28s 280ms/step - loss: 0.3434 - acc: 0.8495 - val_loss: 0.1943 - val_acc: 0.9160\n",
            "Epoch 49/100\n",
            "100/100 [==============================] - 28s 280ms/step - loss: 0.3521 - acc: 0.8415 - val_loss: 0.2513 - val_acc: 0.9170\n",
            "Epoch 50/100\n",
            "100/100 [==============================] - 28s 281ms/step - loss: 0.3453 - acc: 0.8480 - val_loss: 0.2460 - val_acc: 0.9160\n",
            "Epoch 51/100\n",
            "100/100 [==============================] - 28s 280ms/step - loss: 0.3444 - acc: 0.8565 - val_loss: 0.1371 - val_acc: 0.9190\n",
            "Epoch 52/100\n",
            "100/100 [==============================] - 28s 281ms/step - loss: 0.3327 - acc: 0.8525 - val_loss: 0.1528 - val_acc: 0.9190\n",
            "Epoch 53/100\n",
            "100/100 [==============================] - 28s 281ms/step - loss: 0.3408 - acc: 0.8520 - val_loss: 0.2027 - val_acc: 0.9200\n",
            "Epoch 54/100\n",
            "100/100 [==============================] - 28s 280ms/step - loss: 0.3414 - acc: 0.8455 - val_loss: 0.1629 - val_acc: 0.9180\n",
            "Epoch 55/100\n",
            "100/100 [==============================] - 28s 280ms/step - loss: 0.3391 - acc: 0.8385 - val_loss: 0.2729 - val_acc: 0.9200\n",
            "Epoch 56/100\n",
            "100/100 [==============================] - 28s 280ms/step - loss: 0.3322 - acc: 0.8545 - val_loss: 0.2399 - val_acc: 0.9190\n",
            "Epoch 57/100\n",
            "100/100 [==============================] - 28s 281ms/step - loss: 0.3187 - acc: 0.8590 - val_loss: 0.2491 - val_acc: 0.9160\n",
            "Epoch 58/100\n",
            "100/100 [==============================] - 28s 281ms/step - loss: 0.3254 - acc: 0.8625 - val_loss: 0.1518 - val_acc: 0.9230\n",
            "Epoch 59/100\n",
            "100/100 [==============================] - 28s 281ms/step - loss: 0.3325 - acc: 0.8555 - val_loss: 0.4312 - val_acc: 0.9200\n",
            "Epoch 60/100\n",
            "100/100 [==============================] - 28s 281ms/step - loss: 0.3314 - acc: 0.8550 - val_loss: 0.2428 - val_acc: 0.9210\n",
            "Epoch 61/100\n",
            "100/100 [==============================] - 28s 280ms/step - loss: 0.3266 - acc: 0.8575 - val_loss: 0.2048 - val_acc: 0.9240\n",
            "Epoch 62/100\n",
            "100/100 [==============================] - 28s 281ms/step - loss: 0.3362 - acc: 0.8480 - val_loss: 0.2764 - val_acc: 0.9230\n",
            "Epoch 63/100\n",
            "100/100 [==============================] - 28s 280ms/step - loss: 0.3273 - acc: 0.8515 - val_loss: 0.1528 - val_acc: 0.9220\n",
            "Epoch 64/100\n",
            "100/100 [==============================] - 28s 281ms/step - loss: 0.3185 - acc: 0.8630 - val_loss: 0.2663 - val_acc: 0.9240\n",
            "Epoch 65/100\n",
            "100/100 [==============================] - 28s 282ms/step - loss: 0.3234 - acc: 0.8600 - val_loss: 0.2493 - val_acc: 0.9220\n",
            "Epoch 66/100\n",
            "100/100 [==============================] - 28s 281ms/step - loss: 0.3232 - acc: 0.8600 - val_loss: 0.2570 - val_acc: 0.9210\n",
            "Epoch 67/100\n",
            "100/100 [==============================] - 28s 281ms/step - loss: 0.3271 - acc: 0.8530 - val_loss: 0.3173 - val_acc: 0.9220\n",
            "Epoch 68/100\n",
            "100/100 [==============================] - 28s 281ms/step - loss: 0.3260 - acc: 0.8590 - val_loss: 0.2369 - val_acc: 0.9210\n",
            "Epoch 69/100\n",
            "100/100 [==============================] - 28s 281ms/step - loss: 0.3122 - acc: 0.8680 - val_loss: 0.1085 - val_acc: 0.9250\n",
            "Epoch 70/100\n",
            "100/100 [==============================] - 28s 281ms/step - loss: 0.3275 - acc: 0.8495 - val_loss: 0.2447 - val_acc: 0.9240\n",
            "Epoch 71/100\n",
            "100/100 [==============================] - 28s 281ms/step - loss: 0.3103 - acc: 0.8725 - val_loss: 0.3012 - val_acc: 0.9220\n",
            "Epoch 72/100\n",
            "100/100 [==============================] - 28s 281ms/step - loss: 0.3152 - acc: 0.8670 - val_loss: 0.2159 - val_acc: 0.9240\n",
            "Epoch 73/100\n",
            "100/100 [==============================] - 28s 281ms/step - loss: 0.3207 - acc: 0.8625 - val_loss: 0.2544 - val_acc: 0.9250\n",
            "Epoch 74/100\n",
            "100/100 [==============================] - 28s 282ms/step - loss: 0.3066 - acc: 0.8670 - val_loss: 0.1762 - val_acc: 0.9250\n",
            "Epoch 75/100\n",
            "100/100 [==============================] - 28s 282ms/step - loss: 0.3175 - acc: 0.8645 - val_loss: 0.3228 - val_acc: 0.9270\n",
            "Epoch 76/100\n",
            "100/100 [==============================] - 28s 281ms/step - loss: 0.3121 - acc: 0.8530 - val_loss: 0.1814 - val_acc: 0.9250\n",
            "Epoch 77/100\n",
            "100/100 [==============================] - 28s 281ms/step - loss: 0.3147 - acc: 0.8645 - val_loss: 0.2013 - val_acc: 0.9270\n",
            "Epoch 78/100\n",
            "100/100 [==============================] - 28s 282ms/step - loss: 0.3040 - acc: 0.8735 - val_loss: 0.1326 - val_acc: 0.9250\n",
            "Epoch 79/100\n",
            "100/100 [==============================] - 28s 281ms/step - loss: 0.3246 - acc: 0.8555 - val_loss: 0.1456 - val_acc: 0.9240\n",
            "Epoch 80/100\n",
            "100/100 [==============================] - 28s 281ms/step - loss: 0.3016 - acc: 0.8785 - val_loss: 0.1101 - val_acc: 0.9270\n",
            "Epoch 81/100\n",
            "100/100 [==============================] - 28s 281ms/step - loss: 0.2929 - acc: 0.8680 - val_loss: 0.1784 - val_acc: 0.9270\n",
            "Epoch 82/100\n",
            "100/100 [==============================] - 28s 282ms/step - loss: 0.3011 - acc: 0.8700 - val_loss: 0.2604 - val_acc: 0.9270\n",
            "Epoch 83/100\n",
            "100/100 [==============================] - 28s 281ms/step - loss: 0.3171 - acc: 0.8535 - val_loss: 0.2116 - val_acc: 0.9250\n",
            "Epoch 84/100\n",
            "100/100 [==============================] - 28s 281ms/step - loss: 0.3167 - acc: 0.8595 - val_loss: 0.1930 - val_acc: 0.9270\n",
            "Epoch 85/100\n",
            "100/100 [==============================] - 28s 282ms/step - loss: 0.3104 - acc: 0.8625 - val_loss: 0.1735 - val_acc: 0.9280\n",
            "Epoch 86/100\n",
            "100/100 [==============================] - 28s 281ms/step - loss: 0.2919 - acc: 0.8800 - val_loss: 0.2704 - val_acc: 0.9300\n",
            "Epoch 87/100\n",
            "100/100 [==============================] - 28s 281ms/step - loss: 0.3013 - acc: 0.8700 - val_loss: 0.1687 - val_acc: 0.9280\n",
            "Epoch 88/100\n",
            "100/100 [==============================] - 28s 281ms/step - loss: 0.2957 - acc: 0.8730 - val_loss: 0.1392 - val_acc: 0.9280\n",
            "Epoch 89/100\n",
            "100/100 [==============================] - 28s 281ms/step - loss: 0.3067 - acc: 0.8705 - val_loss: 0.0883 - val_acc: 0.9300\n",
            "Epoch 90/100\n",
            "100/100 [==============================] - 28s 281ms/step - loss: 0.2974 - acc: 0.8730 - val_loss: 0.3032 - val_acc: 0.9260\n",
            "Epoch 91/100\n",
            "100/100 [==============================] - 28s 281ms/step - loss: 0.3173 - acc: 0.8540 - val_loss: 0.1146 - val_acc: 0.9260\n",
            "Epoch 92/100\n",
            "100/100 [==============================] - 28s 281ms/step - loss: 0.2958 - acc: 0.8680 - val_loss: 0.3397 - val_acc: 0.9290\n",
            "Epoch 93/100\n",
            "100/100 [==============================] - 28s 281ms/step - loss: 0.3030 - acc: 0.8655 - val_loss: 0.1510 - val_acc: 0.9270\n",
            "Epoch 94/100\n",
            "100/100 [==============================] - 28s 281ms/step - loss: 0.2964 - acc: 0.8680 - val_loss: 0.1671 - val_acc: 0.9290\n",
            "Epoch 95/100\n",
            "100/100 [==============================] - 28s 281ms/step - loss: 0.3111 - acc: 0.8620 - val_loss: 0.1627 - val_acc: 0.9300\n",
            "Epoch 96/100\n",
            "100/100 [==============================] - 28s 281ms/step - loss: 0.2989 - acc: 0.8690 - val_loss: 0.1333 - val_acc: 0.9300\n",
            "Epoch 97/100\n",
            "100/100 [==============================] - 28s 281ms/step - loss: 0.2885 - acc: 0.8655 - val_loss: 0.0387 - val_acc: 0.9290\n",
            "Epoch 98/100\n",
            "100/100 [==============================] - 28s 282ms/step - loss: 0.3086 - acc: 0.8665 - val_loss: 0.1131 - val_acc: 0.9290\n",
            "Epoch 99/100\n",
            "100/100 [==============================] - 28s 282ms/step - loss: 0.2977 - acc: 0.8755 - val_loss: 0.1645 - val_acc: 0.9290\n",
            "Epoch 100/100\n",
            "100/100 [==============================] - 28s 282ms/step - loss: 0.2997 - acc: 0.8685 - val_loss: 0.2200 - val_acc: 0.9280\n"
          ],
          "name": "stdout"
        }
      ]
    },
    {
      "cell_type": "markdown",
      "metadata": {
        "id": "N17e5BaQp3Co",
        "colab_type": "text"
      },
      "source": [
        "Fine tuning curves"
      ]
    },
    {
      "cell_type": "code",
      "metadata": {
        "id": "nWb3x9xNfWik",
        "colab_type": "code",
        "outputId": "d3b75062-fc3c-4a2d-af4f-fc22025b77c8",
        "colab": {
          "base_uri": "https://localhost:8080/",
          "height": 545
        }
      },
      "source": [
        "%matplotlib inline\n",
        "\n",
        "import matplotlib.pyplot as plt\n",
        "\n",
        "acc = history.history['acc']\n",
        "val_acc = history.history['val_acc']\n",
        "\n",
        "loss = history.history['loss']\n",
        "val_loss = history.history['val_loss']\n",
        "\n",
        "epochs = range(1, len(acc) + 1)\n",
        "\n",
        "# training and validation accuracy\n",
        "\n",
        "plt.plot(epochs, acc, 'bo', label='training acc')\n",
        "plt.plot(epochs, val_acc, 'b', label='validation acc')\n",
        "plt.title('training and validation accuracy')\n",
        "plt.legend()\n",
        "\n",
        "plt.figure()\n",
        "\n",
        "# training and validation loss\n",
        "\n",
        "plt.plot(epochs, loss, 'bo', label='training loss')\n",
        "plt.plot(epochs, val_loss, 'b', label='validation loss')\n",
        "plt.title('training and validation loss')\n",
        "plt.legend()\n",
        "\n",
        "plt.show()"
      ],
      "execution_count": 12,
      "outputs": [
        {
          "output_type": "display_data",
          "data": {
            "image/png": "[encoded data removed]",
            "text/plain": [
              "<Figure size 432x288 with 1 Axes>"
            ]
          },
          "metadata": {
            "tags": [],
            "needs_background": "light"
          }
        },
        {
          "output_type": "display_data",
          "data": {
            "image/png": "[encoded data removed]",
            "text/plain": [
              "<Figure size 432x288 with 1 Axes>"
            ]
          },
          "metadata": {
            "tags": [],
            "needs_background": "light"
          }
        }
      ]
    },
    {
      "cell_type": "code",
      "metadata": {
        "id": "md9W3UC1p6qE",
        "colab_type": "code",
        "colab": {}
      },
      "source": [
        "val_loss, val_acc = model.evaluate_generator(validation_generator, steps=50)"
      ],
      "execution_count": 0,
      "outputs": []
    },
    {
      "cell_type": "code",
      "metadata": {
        "id": "XMWBpCUcqBeV",
        "colab_type": "code",
        "outputId": "60e494c5-f1e0-4369-80c2-c9b3daa6539d",
        "colab": {
          "base_uri": "https://localhost:8080/",
          "height": 52
        }
      },
      "source": [
        "print(\"Validation loss:\", val_loss)\n",
        "print(\"Validation accuracy:\", val_acc)"
      ],
      "execution_count": 14,
      "outputs": [
        {
          "output_type": "stream",
          "text": [
            "Validation loss: 0.2880212664604187\n",
            "Validation accuracy: 0.9279999732971191\n"
          ],
          "name": "stdout"
        }
      ]
    },
    {
      "cell_type": "code",
      "metadata": {
        "id": "z5uhCbZIqK-I",
        "colab_type": "code",
        "colab": {}
      },
      "source": [
        ""
      ],
      "execution_count": 0,
      "outputs": []
    }
  ]
}