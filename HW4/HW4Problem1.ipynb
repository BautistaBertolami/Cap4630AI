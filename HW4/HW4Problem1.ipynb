{
  "nbformat": 4,
  "nbformat_minor": 0,
  "metadata": {
    "colab": {
      "name": "HW4Problem1",
      "provenance": [],
      "collapsed_sections": [],
      "authorship_tag": "ABX9TyPJU/IeSfr30dwdtkNnpgdB",
      "include_colab_link": true
    },
    "kernelspec": {
      "name": "python3",
      "display_name": "Python 3"
    }
  },
  "cells": [
    {
      "cell_type": "markdown",
      "metadata": {
        "id": "view-in-github",
        "colab_type": "text"
      },
      "source": [
        "<a href=\"https://colab.research.google.com/github/BautistaBertolami/Cap4630AI/blob/master/HW4/HW4Problem1.ipynb\" target=\"_parent\"><img src=\"https://colab.research.google.com/assets/colab-badge.svg\" alt=\"Open In Colab\"/></a>"
      ]
    },
    {
      "cell_type": "markdown",
      "metadata": {
        "id": "DljhoDDcUDKy",
        "colab_type": "text"
      },
      "source": [
        "Homework 4 problem 1 conv2d using only numpy\\\n",
        "applyKernel is a helper function that obtains the convolution in one area of the original input matrix\\\n",
        "conv2d just gets the convolution of the input matrix using the kernel matrix\n"
      ]
    },
    {
      "cell_type": "code",
      "metadata": {
        "id": "9arMy9Kt1Mep",
        "colab_type": "code",
        "colab": {}
      },
      "source": [
        "import numpy as np\n",
        "\n",
        "def applyKernel(input_mat, kernel_mat, x, y, krows, kcols):\n",
        "  total = 0\n",
        "\n",
        "  for r in range(0, krows):\n",
        "    for c in range(0, kcols):\n",
        "      total += kernel_mat[r][c]*input_mat[r + x][c + y] \n",
        "\n",
        "  return total\n",
        "\n",
        "def conv2d(input_mat, kernel_mat):\n",
        "  kernel_mat = np.flip(kernel_mat)\n",
        "  irows = np.size(input_mat, 0)\n",
        "  icols = np.size(input_mat, 1)\n",
        "  krows = np.size(kernel_mat, 0)\n",
        "  kcols = np.size(kernel_mat, 1)\n",
        "  rrows = irows - krows + 1\n",
        "  rcols = icols - kcols + 1\n",
        "\n",
        "  if(krows != kcols):\n",
        "      # kernel matrix is not a square\n",
        "      return []\n",
        "\n",
        "  if(irows != icols):\n",
        "      # input matrix is not a square\n",
        "      return []\n",
        "\n",
        "  if(krows > irows or kcols > icols):\n",
        "    return []\n",
        "\n",
        "  resultMatrix = np.empty([rrows, rcols])\n",
        "\n",
        "  for r in range(0, rrows):\n",
        "    for c in range(0, rcols):\n",
        "      res = applyKernel(input_mat, kernel_mat, r, c, krows, kcols)\n",
        "      resultMatrix[r][c] = res\n",
        "\n",
        "  return resultMatrix\n"
      ],
      "execution_count": 0,
      "outputs": []
    },
    {
      "cell_type": "markdown",
      "metadata": {
        "id": "iW9lR1ZoUAON",
        "colab_type": "text"
      },
      "source": [
        "Test Cases"
      ]
    },
    {
      "cell_type": "code",
      "metadata": {
        "id": "E2eu5LVsGdOp",
        "colab_type": "code",
        "outputId": "b379f01b-cd3d-49e6-c825-67477ac43205",
        "colab": {
          "base_uri": "https://localhost:8080/",
          "height": 381
        }
      },
      "source": [
        "from scipy import signal\n",
        "import numpy as np\n",
        "\n",
        "input_mat = []\n",
        "kernel_mat = []\n",
        "expected_mat = []\n",
        "\n",
        "# test case 1\n",
        "input_mat.append(np.array([[1, 2, 1, 2],\n",
        "                      [2, 1, 2, 1],\n",
        "                      [1, 2, 1, 2],\n",
        "                      [2, 1, 2, 1]]))\n",
        "\n",
        "kernel_mat.append(np.array([[1, 0],\n",
        "                       [0, 1]]))\n",
        "\n",
        "expected_mat.append(np.array([[2, 4, 2],\n",
        "                                [4, 2, 4],\n",
        "                                [2, 4, 2]]))\n",
        "\n",
        "# test case 2\n",
        "input_mat.append(np.array([[1, 0, 0, 0],\n",
        "                      [0, 1, 0, 0],\n",
        "                      [0, 0, 1, 0],\n",
        "                      [0, 0, 0, 1]]))\n",
        "kernel_mat.append(np.array([[1, 0], [0, 1]]))\n",
        "expected_mat.append(np.array([[2, 0, 0], [0, 2, 0], [0, 0, 2]]))\n",
        "\n",
        "\n",
        "# test case 3\n",
        "input_mat.append(np.array([[1, 0, 0, 0],\n",
        "                      [0, 1, 0, 0],\n",
        "                      [0, 0, 1, 0],\n",
        "                      [0, 0, 0, 1]]))\n",
        "kernel_mat.append(np.array([[1, -1],\n",
        "                       [-1, 0]]))\n",
        "\n",
        "expected_mat.append(np.array([[ 1, -1,  0], [-1,  1, -1],[ 0, -1,  1]]))\n",
        "\n",
        "\n",
        "# test case 4\n",
        "input_mat.append(np.array([[1, 0, 0, 0],\n",
        "                      [0, 1, 0, 0],\n",
        "                      [0, 0, 1, 0],\n",
        "                      [0, 0, 0, 1]]))\n",
        "kernel_mat.append(np.array([[1, 0, 0, 0],\n",
        "                      [0, 1, 0, 0],\n",
        "                      [0, 0, 1, 0],\n",
        "                      [0, 0, 0, 1]]))\n",
        "\n",
        "expected_mat.append(np.array([[4]]))\n",
        "\n",
        "\n",
        "# test case 5 - should either through an error, or return empty matrix\n",
        "input_mat.append(np.array([[1, -1],\n",
        "                       [-1, 0]]))\n",
        "kernel_mat.append(np.array([[1, 0, 0, 0],\n",
        "                      [0, 1, 0, 0],\n",
        "                      [0, 0, 1, 0],\n",
        "                      [0, 0, 0, 1]]))\n",
        "\n",
        "expected_mat.append([])\n",
        "\n",
        "\n",
        "\n",
        "for i in range(len(input_mat)):\n",
        "  # uncomment line for student code testing\n",
        "  output_mat = conv2d(input_mat[i], kernel_mat[i])\n",
        "\n",
        "  # uncomment lines below (and comment line above) for generating test cases.\n",
        "  #if input_mat[i].shape[0] < kernel_mat[i].shape[0]:\n",
        "  #  output_mat = []\n",
        "  #else:\n",
        "  #  output_mat = signal.convolve2d(input_mat[i], kernel_mat[i], mode='valid')\n",
        "\n",
        "  print(output_mat)\n",
        "  if np.array_equal(output_mat, expected_mat[i]):\n",
        "    print(\"Correct output!\\n\")\n",
        "  else:\n",
        "    print(\"Incorrect output!\\n\")\n"
      ],
      "execution_count": 8,
      "outputs": [
        {
          "output_type": "stream",
          "text": [
            "[[2. 4. 2.]\n",
            " [4. 2. 4.]\n",
            " [2. 4. 2.]]\n",
            "Correct output!\n",
            "\n",
            "[[2. 0. 0.]\n",
            " [0. 2. 0.]\n",
            " [0. 0. 2.]]\n",
            "Correct output!\n",
            "\n",
            "[[ 1. -1.  0.]\n",
            " [-1.  1. -1.]\n",
            " [ 0. -1.  1.]]\n",
            "Correct output!\n",
            "\n",
            "[[4.]]\n",
            "Correct output!\n",
            "\n",
            "[]\n",
            "Correct output!\n",
            "\n"
          ],
          "name": "stdout"
        }
      ]
    },
    {
      "cell_type": "code",
      "metadata": {
        "id": "cmG3wOqiG2Ov",
        "colab_type": "code",
        "colab": {}
      },
      "source": [
        ""
      ],
      "execution_count": 0,
      "outputs": []
    }
  ]
}