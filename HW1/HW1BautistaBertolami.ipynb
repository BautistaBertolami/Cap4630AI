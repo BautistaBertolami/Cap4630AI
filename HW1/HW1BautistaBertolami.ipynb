{
  "nbformat": 4,
  "nbformat_minor": 0,
  "metadata": {
    "colab": {
      "name": "HW1BautistaBertolami.ipynb",
      "provenance": [],
      "collapsed_sections": [],
      "authorship_tag": "ABX9TyPL2kNzrQ59YeNGe/Yuchu1",
      "include_colab_link": true
    },
    "kernelspec": {
      "name": "python3",
      "display_name": "Python 3"
    }
  },
  "cells": [
    {
      "cell_type": "markdown",
      "metadata": {
        "id": "view-in-github",
        "colab_type": "text"
      },
      "source": [
        "<a href=\"https://colab.research.google.com/github/BautistaBertolami/Cap4630AI/blob/master/HW1BautistaBertolami.ipynb\" target=\"_parent\"><img src=\"https://colab.research.google.com/assets/colab-badge.svg\" alt=\"Open In Colab\"/></a>"
      ]
    },
    {
      "cell_type": "markdown",
      "metadata": {
        "id": "bomiTeqqlgMl",
        "colab_type": "text"
      },
      "source": [
        "Bautista Bertolami\n",
        "\n",
        "The multiply_matrices function's purpose is to multiply a list of matrices in total to create one single matrix.\n",
        "\n",
        "The function has two helper functions \\\n",
        "isEmpty - it just returns if a list is empty or not \\\n",
        "\\\n",
        "matrixMult - this function returns the result of multiplying 2 matrices together \\\n",
        "It does not return a result if the matrices are not compatible this meaning that the matrices do not match in number of rows and columns. Example here \\\n",
        "\\begin{bmatrix}\n",
        "a & b & c\\\\\n",
        "d & e & f\n",
        "\\end{bmatrix}\n",
        "\\begin{bmatrix}\n",
        "g & h & i\\\\\n",
        "j & k & l\n",
        "\\end{bmatrix} \\\n",
        "These can't be multiplied as the number of rows in the first matrix does not match the number of columns in the second, and vice versa\n",
        "\n"
      ]
    },
    {
      "cell_type": "code",
      "metadata": {
        "id": "P8c_0TQxhDOb",
        "colab_type": "code",
        "colab": {
          "base_uri": "https://localhost:8080/",
          "height": 312
        },
        "outputId": "b8770873-ea9e-4d13-fd60-53008d04d795"
      },
      "source": [
        "import numpy as np\n",
        "\n",
        "def matrixMult(testMatrix1, testMatrix2):\n",
        "  \n",
        "  #print(testMatrix1)\n",
        "  #print(testMatrix2)\n",
        "\n",
        "  shape1 = testMatrix1.shape\n",
        "  shape2 = testMatrix2.shape\n",
        "\n",
        "  if shape1[1] == shape2[0]:\n",
        "\n",
        "    #print(\"Multiplying Matrix1 X Matrix2\")\n",
        "    resultMatrix = np.empty([shape1[0],shape2[1]])\n",
        "    np.matmul(testMatrix1, testMatrix2, resultMatrix)\n",
        "\n",
        "    return resultMatrix\n",
        "\n",
        "  elif shape1[0] == shape2[1]:\n",
        "\n",
        "    #print(\"Multiplying Matrix2 X Matrix1\")\n",
        "    resultMatrix = np.empty([shape1[1],shape2[0]])\n",
        "    np.matmul(testMatrix2, testMatrix1, resultMatrix)\n",
        "\n",
        "    return resultMatrix\n",
        "\n",
        "  else:\n",
        "\n",
        "    print(\"The matrices\\n{0} and\\n{1}\\ncan't be multiplied because the columns and rows do not match\\n{2} != {3}\".format(testMatrix1, testMatrix2, shape1, shape2))\n",
        "    return\n",
        "\n",
        "def isEmpty(matrixList):\n",
        "  if matrixList:\n",
        "    return False\n",
        "  else:\n",
        "    return True\n",
        "\n",
        "\n",
        "def multiply_matrices(matrixList):\n",
        "\n",
        "  if(isEmpty(matrixList)):\n",
        "    print(\"The list of matrices is empty\")\n",
        "    return\n",
        "\n",
        "  testMatrix = matrixList[0]\n",
        "  for x in range(1, len(matrixList)):\n",
        "    testMatrix = matrixMult(testMatrix, matrixList[x])\n",
        "\n",
        "  return testMatrix\n",
        "\n",
        "#main loop\n",
        "matrix1 = np.array(([[2, 4, 6], [6, 2, 4], [4, 6, 2]]))\n",
        "matrix2 = np.random.randint(1, 9, (3, 2))\n",
        "matrix3 = np.random.randint(1, 9, (2, 4))\n",
        "matrix4 = np.random.randint(1, 9, (3, 4))\n",
        "\n",
        "matrixList1 = (matrix1, matrix2, matrix3)\n",
        "matrixList2 = ()\n",
        "matrixList3 = (matrix1, matrix2, matrix4)\n",
        "\n",
        "#Function Works\n",
        "print(multiply_matrices(matrixList1))\n",
        "print()\n",
        "#Function return empty\n",
        "print(multiply_matrices(matrixList2))\n",
        "print()\n",
        "#Function will not work\n",
        "print(multiply_matrices(matrixList3))\n"
      ],
      "execution_count": 26,
      "outputs": [
        {
          "output_type": "stream",
          "text": [
            "[[452. 242. 166. 284.]\n",
            " [372. 212. 132. 244.]\n",
            " [628. 338. 230. 396.]]\n",
            "\n",
            "The list of matrices is empty\n",
            "None\n",
            "\n",
            "The matrices\n",
            "[[42. 40.]\n",
            " [32. 36.]\n",
            " [58. 56.]] and\n",
            "[[3 2 7 1]\n",
            " [6 2 1 6]\n",
            " [2 3 2 6]]\n",
            "can't be multiplied because the columns and rows do not match\n",
            "(3, 2) != (3, 4)\n",
            "None\n"
          ],
          "name": "stdout"
        }
      ]
    }
  ]
}
