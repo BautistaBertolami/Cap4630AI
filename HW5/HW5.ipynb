{
  "nbformat": 4,
  "nbformat_minor": 0,
  "metadata": {
    "colab": {
      "name": "HW5",
      "provenance": [],
      "collapsed_sections": [],
      "authorship_tag": "ABX9TyPDeCOtodMCeYqT+VDYuwsL",
      "include_colab_link": true
    },
    "kernelspec": {
      "name": "python3",
      "display_name": "Python 3"
    }
  },
  "cells": [
    {
      "cell_type": "markdown",
      "metadata": {
        "id": "view-in-github",
        "colab_type": "text"
      },
      "source": [
        "<a href=\"https://colab.research.google.com/github/BautistaBertolami/Cap4630AI/blob/master/HW5/HW5.ipynb\" target=\"_parent\"><img src=\"https://colab.research.google.com/assets/colab-badge.svg\" alt=\"Open In Colab\"/></a>"
      ]
    },
    {
      "cell_type": "markdown",
      "metadata": {
        "id": "T-TX9c7YoB-N",
        "colab_type": "text"
      },
      "source": [
        "**AI class summary Bautista Bertolami**\n",
        "\n",
        "**1) General Concepts**"
      ]
    },
    {
      "cell_type": "markdown",
      "metadata": {
        "id": "XdaG2uWrItYd",
        "colab_type": "text"
      },
      "source": [
        "**Artificial Intelligence**\n",
        "*   AI deals with simulating a certain amount of human intelligence using a computer, allowing said computer to perform more complicated tasks such as visual recognition, or speech recognition.\n",
        "\n",
        "**Symbolic AI**\n",
        "*   Symbolic AI is the term used to describe AI problems related to symbolic representations of problems such as logic and search.\n",
        "*   Symbolic AI takes in the input and rules and produces an output\n",
        "<pre>\n",
        "Input-------->+---------------+\n",
        "                  |               | -------->Output\n",
        "Rules-------->+---------------+\n",
        "</pre>\n",
        "\n",
        "**Machine Learning**\n",
        "*   Subset of AI\n",
        "*   In ML computers essentially adjust a set of rules by being provided the input and output of a problem. This in turn allows the computer to tailor make rules for a specific problem, this can also allow it to fine tune said rules with more training\n",
        "<pre>\n",
        "Input--------->+---------------+\n",
        "                   |               | -------->Rules\n",
        "Output-------->+---------------+\n",
        "</pre>\n",
        "* Most forms of machine learning fall into a spectrum of supervised and unsupervised learning\n",
        "* Supervised learning\n",
        "  * This model is provided labeled training data, meaning that it had both the input and output for a problem\n",
        "  * Essentially the model creates a set of rules that takes in features(input) and labels them(output)\n",
        "  * An example can be a ML model that labels a dog a specific breed, the label would be the breed, and the features could be the type of tail, length of ears, length of the legs, etc.\n",
        "\n",
        "* Unsupervised learning\n",
        "  * This model is given a set of data, but no labels for said data, here the model must infer it's own way of classifiying the data\n",
        "  * esentially groups data into clusters\n",
        "\n",
        "* Reinforcement learning\n",
        "  * The model is given a reward of sorts for taking a specific action\n",
        "  * The model has to figure out a way to maximize its reward in a certain amount of time or steps \n",
        "\n",
        "* Deep Learning\n",
        "  * A subset of ML focused on aritificial neural networks\n"
      ]
    },
    {
      "cell_type": "markdown",
      "metadata": {
        "id": "ED81vctJoGq_",
        "colab_type": "text"
      },
      "source": [
        "**2) Basic concepts**\n",
        "\n",
        "**Regression**\n",
        "* A regression model predicts continuous values, such as the prices of houses depending on the size of the house, location, etc.\n",
        "* It is used to detect or predict a relationship between a label and features\n",
        "\n",
        "**Linear Regression**\n",
        "* Linear regression is a system of regression that can analyze and create/find a relationship between labels and features\n",
        "* Linear regression usually creates a line of best fit to separate data, this is done with the equation $y=mx+b$ which is the simplest version were $x$ is the input for a feature, $y$ is the prediction, $m$ is the associated weight to that specific input, and $b$ is the overall bias.\n",
        "* Linear regression works by taking in the input and output and adjusting the weights of the features and bias to create the most accurate line of best fit possible\n",
        "\n",
        "**Logistic Regression**\n",
        "* Logistic regression is very similar to linear regression except for the fact that it deals with binary classification problems, usually using the sigmoid formula.\n",
        "* The outputs can only be classified as either 0 or 1, nothing in between"
      ]
    },
    {
      "cell_type": "markdown",
      "metadata": {
        "id": "vU3tPZSHiFxG",
        "colab_type": "text"
      },
      "source": [
        "**This is an example of weights obtained using logistic regression with two features using binary cross entropy as the loss function (code originally from HW3 Problem 3 originally trained with 80 unit of data)**\n",
        "\n",
        "This example shows the result of using logistical regression to separate data points into two groups, any point above the line is labeled blue(1), and any point below it is labeled red(0)"
      ]
    },
    {
      "cell_type": "code",
      "metadata": {
        "id": "mNJ0ZN9QRfPw",
        "colab_type": "code",
        "outputId": "becd1a03-514c-4cb8-852e-178df9f1a2e3",
        "colab": {
          "base_uri": "https://localhost:8080/",
          "height": 320
        }
      },
      "source": [
        "%matplotlib inline\n",
        "import matplotlib.pyplot as plt\n",
        "import numpy as np\n",
        "import math\n",
        "\n",
        "def display_random_data2(data, labels, w1, w2, b):                                                                                                                                                                                                                                                                                                                                                                                                                                                                                                                                                                                                                                                          \n",
        "  fig = plt.figure(figsize = (5, 5))\n",
        "  axs = plt.axes()\n",
        "  x = [0] * 2\n",
        "  y = [0] * 2\n",
        "  x[0] = 0\n",
        "  x[1] = 1\n",
        "  y[0] = (-(w1 * x[0])-b)/w2\n",
        "  y[1] = (-(w1 * x[1])-b)/w2\n",
        "  plt.plot(x, y, \"magenta\")\n",
        "  for i in range(0, data.shape[0]):\n",
        "    color = \"red\"\n",
        "    if labels[i] == 0:\n",
        "      color = \"blue\"\n",
        "    axs.scatter(data[i][0], data[i][1], c = color)\n",
        "\n",
        "w1 = 1.7078354\n",
        "w2 = -1.01765782\n",
        "b = 1.55928224\n",
        "test_data = np.array([[ 0.73920212,  6.19153818],\n",
        " [ 0.45822348,  3.3948902 ],\n",
        " [ 0.08099486, -2.23494688],\n",
        " [ 0.23137049,  1.27617039],\n",
        " [ 0.00978608,  2.14460088],\n",
        " [ 0.06896728, -0.62826494]])\n",
        "test_labels = np.array([0, 0, 1, 1, 0, 1])\n",
        "display_random_data2(test_data, test_labels, w1, w2, b)"
      ],
      "execution_count": 0,
      "outputs": [
        {
          "output_type": "display_data",
          "data": {
            "image/png": "[encoded data removed]",
            "text/plain": [
              "<Figure size 360x360 with 1 Axes>"
            ]
          },
          "metadata": {
            "tags": [],
            "needs_background": "light"
          }
        }
      ]
    },
    {
      "cell_type": "markdown",
      "metadata": {
        "id": "x_YdNxFrReWW",
        "colab_type": "text"
      },
      "source": [
        "**Gradients**\n",
        "* A ML model is trained by an iterative approach, this means the model when it is trained, it adjusts its weights to minimize the loss (loss is the difference between the prediciton, and the actual label) at each input using a gradient\n",
        "* The gradient of a model depends on the loss function it uses, since it is usually the derivative of the loss function being used\n",
        "**Loss Functions**\n",
        "* This iterative approach uses gradients, these gradients first of all use a loss fucntion to calculate the loss, there's several different loss functions that can be used depending on the problem at hand, such eqautions include but are not limited to\n",
        "* Mean Squared Error\n",
        "$\\frac{1}{m}‎{{‎‎\\sum}}_{i=1}^{m‎}\\frac{1}{2}(x^{(i)^T}w-y{(i)})$\n",
        "  * The derivative is $\\frac{1}{m}{{‎‎\\sum}}_{i=1}^{m‎}x^{(i)}(x^{(i)^T}w-y{(i)})$ (gradient)\n",
        "* Binary cross entropy\n",
        "$-ylog(a)-(1-y)log(1-a)$ (which produces an output between 0 or 1)\n",
        "  * The derivative is $y-a$ (gradient)\n",
        "  * also a goes through the sigmoid function usually $a = \\frac{1}{1+e^{-x}}$\n",
        "\n",
        "**Gradient Descent**\n",
        "* Is used to update the weights and bias of the model by iteratively moving in the direction of steepest decrease in the loss function\n",
        "* Learning rate is a scalar number that multiplies the gradient, this in turn allows for the gradient descent to be adjusted very fast, or very slow, depending on the number of the gradient, .0001 is a slow learning rate, 2.5 is a fast learning rate\n",
        "* There's different ways of handling gradient descent some include\n",
        "  * Stochastic Gradient Descent (uses a batch size of 1 for each iteration)\n",
        "  * Mini-Batch Gradient Descent (uses between 10-100 batches per iteration)\n",
        "  * A batch is a set number of data used to train the model\n",
        "  "
      ]
    },
    {
      "cell_type": "markdown",
      "metadata": {
        "id": "Hl6_P5uioG57",
        "colab_type": "text"
      },
      "source": [
        "**3) Building a model**\n",
        "\n",
        "**Layers**\n",
        "* These are the basic building blocks of neural networks\n",
        "* They contain the weights, and one or several tensors learned\n",
        "* There are several different types of layers\n",
        "  * Dense layers, are densely connected, which are usually used to proccess simple vector data, using 2D tensors\n",
        "  * Recurrent layers are used to handle 3D tensors\n",
        "  * 2D Convolutional layers are used to handle 4D tensor data\n",
        "* ReLU is used to apply recitfied linear units to the model \n",
        "\n",
        "**Here's an example of a model being created and layers being added to it using keras**\n"
      ]
    },
    {
      "cell_type": "code",
      "metadata": {
        "id": "CObCGldmr9-R",
        "colab_type": "code",
        "colab": {}
      },
      "source": [
        "from keras import models\n",
        "from keras import layers\n",
        "\n",
        "model = models.Sequential()\n",
        "model.add(layers.Dense(512, activation='relu', input_shape=(28 * 28, )))\n",
        "model.add(layers.Dense(10, activation='softmax'))\n"
      ],
      "execution_count": 0,
      "outputs": []
    },
    {
      "cell_type": "markdown",
      "metadata": {
        "id": "80hRDeekJ-Hr",
        "colab_type": "text"
      },
      "source": [
        "**Convnet**\n",
        "* Convolutional Neural Networks\n",
        "* A CNN is designed specifically to cassify images\n",
        "* The model takes each pixel of an image an learns how to derive specific information from that\n",
        "* These features for example can be certain outlines in an image, and then those outlines are recognized as specific parts of an item\n",
        "  * For example to recognize a car, the outlines can be separated and then recognized as speicifc parts, such as the wheels, windows, lights, etc.\n",
        "  * Then using fully connected layers and the data the model labels the object as a car, or specific model of car\n",
        "* Convolutions have two parameters\n",
        "  * Size of the tiles extracted\n",
        "  * Depth of the output feature map\n",
        "* Maxpooling\n",
        "  * Is a filter in a CNN that takes the matrix and creates a smaller matrix created from the largest numbers in each chunk of the original matrix\n",
        "* Pre trained convnets can also be used in keras, these can speed up the process when creating a model\n",
        "  * These include\n",
        "  * VGG16\n",
        "  * VGG19\n",
        "  * Xception\n"
      ]
    },
    {
      "cell_type": "markdown",
      "metadata": {
        "id": "LmS7YH3-oHIf",
        "colab_type": "text"
      },
      "source": [
        "**4) Compiling a model**\n",
        "* After the model is built, the next step is to compile it, this usually takes a few steps, unless the model requires severe specifications for this reason several things can be altered on the model when it is to be compiled\n",
        "* Loss function\n",
        "  * Here it's the same as before, the loss function determines the exact number that the model needs to minimize to know it is being more accurate\n",
        "  * In keras it can include Mean Squared Error, Binary Cross Entropy, etc.\n",
        "* Optimizers\n",
        " * Setting this up allows you to specifiy a specific variant of Stochastic Gradient Descent\n",
        " * Learning Rate is specified in the optimizer in keras, however changing it to a specific value is easy, all you do is edit the optimizer you want to use\n",
        "  * also as previously stated the smaller the LR the slower the model will update its weights, but it usually provides more accurate results\n",
        "\n",
        "**Here using the previously established model, here I specify a Learning rate, a loss function, and an optimizer**"
      ]
    },
    {
      "cell_type": "code",
      "metadata": {
        "id": "MLGBm8Q9fPnE",
        "colab_type": "code",
        "colab": {}
      },
      "source": [
        "from keras import optimizers\n",
        "\n",
        "# Here the model is compiled using MSE as the loss function, and Stochastic Gradient Descent as the optimizer\n",
        "model.compile(loss='mean_squared_error', optimizer='sgd')\n",
        "\n",
        "# Here the model is compiled usong MSE and SGD, but with a specific learning rate,\n",
        "# each optimizer however has its own way of specifing the components , this one is for Stochastic Gradient Descent\n",
        "sgd = optimizers.SGD(learning_rate = 0.01)\n",
        "model.compile(loss='mean_squared_error', optimizer=sgd)"
      ],
      "execution_count": 0,
      "outputs": []
    },
    {
      "cell_type": "markdown",
      "metadata": {
        "id": "XmjoFBTToHVS",
        "colab_type": "text"
      },
      "source": [
        "**5)Training a model**\n",
        "**Training**\n",
        "* Data\n",
        "  * Training a model requires a set of data that the model can use, this includes a set of data that contains the inputs of the weights, and a set of data that contains the labels for each specific input\n",
        "  * These are also usually split into validation and test data, meaning that you end up with 4 different arrays of data (for supervised learning since you need to provide the labels to the model)\n",
        "    * train_data (the inputs that the model uses to create a prediciton) \n",
        "    * train_labels (the labels that the model has to match its predictions with)\n",
        "    * test_data (same as train_data, but used to validate the accuracy of the model)\n",
        "    * test_labels (same as train_labels, but again used to validate the models accuracy) \n",
        "\n",
        "* The model using the specified data trains itself by adjusting the weights of the model, by comparing inputing its prediction through the specified loss function\n",
        "* The model can also be specified to be trained in a specific sized batch and how many epichs it has to go through to finish training, the more epochs the longer, but possibly more accurate the model can be"
      ]
    },
    {
      "cell_type": "markdown",
      "metadata": {
        "id": "JyUo75ywlVne",
        "colab_type": "text"
      },
      "source": [
        "**Here's an example of code that would be used to train the previous model we established**"
      ]
    },
    {
      "cell_type": "code",
      "metadata": {
        "id": "TZhI7RKHlUDR",
        "colab_type": "code",
        "colab": {}
      },
      "source": [
        "# train_data and train_labels are not specified so do not run code\n",
        "model.fit(train_data, train_labels, epochs)"
      ],
      "execution_count": 0,
      "outputs": []
    },
    {
      "cell_type": "markdown",
      "metadata": {
        "id": "rfkepdOhs1rs",
        "colab_type": "text"
      },
      "source": [
        "**Validation Sets**\n",
        "* Some problems can be derived through training a model specifically overfitting and underfitting, accuracy is used to fix these.\n",
        "* Overfitting\n",
        "  * This problem means that the model is too good at predicitng the train data, but not any other data\n",
        "  * The model can't generalize its predicitons\n",
        "  * The model is more complex than it should be\n",
        "  * The model can't predict new data well\n",
        "* Underfitting\n",
        "  * Is when the model has not been trained enough\n",
        "  * The model is not accurate\n",
        "  * The model again can't predict new or old data\n",
        "* Validation sets are created to help fix both of these problems\n",
        " * As previously mentioned the data is separated into a test_data, and test_label array, with a validation model you would split these two into two more sets, the validation_data, and validation_labels\n",
        " * These are used to check the model and check if the model is accurate on these tests\n",
        " * The workflow is essentially this\n",
        "  * Pick the model that does best on the validation sets, and then check it once more against the test set\n",
        "  * This in turn prevents more exposure to the full data set making the model more general\n",
        " * There are many different types of validation models, some are\n",
        "  * Hold-out validation\n",
        "    * this one is very basic essentially what I explained before\n",
        "  * K-fold validation\n",
        "    * this one is used when there's little data available\n",
        "    * you partition the data set into several folds (sub arrays of the data)\n",
        "    * in each partition a different fold becomes the test data\n",
        "    * essentially its a giant for loop for training data"
      ]
    },
    {
      "cell_type": "markdown",
      "metadata": {
        "id": "OEibNdr9oLYF",
        "colab_type": "text"
      },
      "source": [
        "**6) Finetuning pre trained models**\n",
        "* The pre trained models we dealt in class were convnets\n",
        "* Fine tuning a convnet\n",
        "  * Pick convnet\n",
        "    * VGG16, Xception, VGG19, etc.\n",
        "  * Figure out naming scheme\n",
        "    * You can probably find the documentation for the names of each layer, however i found it to be easier to just print the layer names with a for loop\n",
        "  * using the layer.name() command\n",
        "\n",
        "**Here's how I obtained the names for the xception layers**"
      ]
    },
    {
      "cell_type": "code",
      "metadata": {
        "id": "IBNkyZ-eglhK",
        "colab_type": "code",
        "colab": {
          "base_uri": "https://localhost:8080/",
          "height": 1000
        },
        "outputId": "fd0d29f8-7ffa-486f-d71f-75204494a87d"
      },
      "source": [
        "from keras.applications import Xception\n",
        "\n",
        "conv_base = Xception(\n",
        "    include_top=False,\n",
        "    weights='imagenet',\n",
        "    input_tensor=None,\n",
        "    input_shape=(150, 150, 3))\n",
        "# warning running this code produces a very long output\n",
        "for layer in conv_base.layers:\n",
        "  print(layer.name)"
      ],
      "execution_count": 1,
      "outputs": [
        {
          "output_type": "stream",
          "text": [
            "Using TensorFlow backend.\n"
          ],
          "name": "stderr"
        },
        {
          "output_type": "stream",
          "text": [
            "Downloading data from https://github.com/fchollet/deep-learning-models/releases/download/v0.4/xception_weights_tf_dim_ordering_tf_kernels_notop.h5\n",
            "83689472/83683744 [==============================] - 2s 0us/step\n",
            "input_1\n",
            "block1_conv1\n",
            "block1_conv1_bn\n",
            "block1_conv1_act\n",
            "block1_conv2\n",
            "block1_conv2_bn\n",
            "block1_conv2_act\n",
            "block2_sepconv1\n",
            "block2_sepconv1_bn\n",
            "block2_sepconv2_act\n",
            "block2_sepconv2\n",
            "block2_sepconv2_bn\n",
            "conv2d_1\n",
            "block2_pool\n",
            "batch_normalization_1\n",
            "add_1\n",
            "block3_sepconv1_act\n",
            "block3_sepconv1\n",
            "block3_sepconv1_bn\n",
            "block3_sepconv2_act\n",
            "block3_sepconv2\n",
            "block3_sepconv2_bn\n",
            "conv2d_2\n",
            "block3_pool\n",
            "batch_normalization_2\n",
            "add_2\n",
            "block4_sepconv1_act\n",
            "block4_sepconv1\n",
            "block4_sepconv1_bn\n",
            "block4_sepconv2_act\n",
            "block4_sepconv2\n",
            "block4_sepconv2_bn\n",
            "conv2d_3\n",
            "block4_pool\n",
            "batch_normalization_3\n",
            "add_3\n",
            "block5_sepconv1_act\n",
            "block5_sepconv1\n",
            "block5_sepconv1_bn\n",
            "block5_sepconv2_act\n",
            "block5_sepconv2\n",
            "block5_sepconv2_bn\n",
            "block5_sepconv3_act\n",
            "block5_sepconv3\n",
            "block5_sepconv3_bn\n",
            "add_4\n",
            "block6_sepconv1_act\n",
            "block6_sepconv1\n",
            "block6_sepconv1_bn\n",
            "block6_sepconv2_act\n",
            "block6_sepconv2\n",
            "block6_sepconv2_bn\n",
            "block6_sepconv3_act\n",
            "block6_sepconv3\n",
            "block6_sepconv3_bn\n",
            "add_5\n",
            "block7_sepconv1_act\n",
            "block7_sepconv1\n",
            "block7_sepconv1_bn\n",
            "block7_sepconv2_act\n",
            "block7_sepconv2\n",
            "block7_sepconv2_bn\n",
            "block7_sepconv3_act\n",
            "block7_sepconv3\n",
            "block7_sepconv3_bn\n",
            "add_6\n",
            "block8_sepconv1_act\n",
            "block8_sepconv1\n",
            "block8_sepconv1_bn\n",
            "block8_sepconv2_act\n",
            "block8_sepconv2\n",
            "block8_sepconv2_bn\n",
            "block8_sepconv3_act\n",
            "block8_sepconv3\n",
            "block8_sepconv3_bn\n",
            "add_7\n",
            "block9_sepconv1_act\n",
            "block9_sepconv1\n",
            "block9_sepconv1_bn\n",
            "block9_sepconv2_act\n",
            "block9_sepconv2\n",
            "block9_sepconv2_bn\n",
            "block9_sepconv3_act\n",
            "block9_sepconv3\n",
            "block9_sepconv3_bn\n",
            "add_8\n",
            "block10_sepconv1_act\n",
            "block10_sepconv1\n",
            "block10_sepconv1_bn\n",
            "block10_sepconv2_act\n",
            "block10_sepconv2\n",
            "block10_sepconv2_bn\n",
            "block10_sepconv3_act\n",
            "block10_sepconv3\n",
            "block10_sepconv3_bn\n",
            "add_9\n",
            "block11_sepconv1_act\n",
            "block11_sepconv1\n",
            "block11_sepconv1_bn\n",
            "block11_sepconv2_act\n",
            "block11_sepconv2\n",
            "block11_sepconv2_bn\n",
            "block11_sepconv3_act\n",
            "block11_sepconv3\n",
            "block11_sepconv3_bn\n",
            "add_10\n",
            "block12_sepconv1_act\n",
            "block12_sepconv1\n",
            "block12_sepconv1_bn\n",
            "block12_sepconv2_act\n",
            "block12_sepconv2\n",
            "block12_sepconv2_bn\n",
            "block12_sepconv3_act\n",
            "block12_sepconv3\n",
            "block12_sepconv3_bn\n",
            "add_11\n",
            "block13_sepconv1_act\n",
            "block13_sepconv1\n",
            "block13_sepconv1_bn\n",
            "block13_sepconv2_act\n",
            "block13_sepconv2\n",
            "block13_sepconv2_bn\n",
            "conv2d_4\n",
            "block13_pool\n",
            "batch_normalization_4\n",
            "add_12\n",
            "block14_sepconv1\n",
            "block14_sepconv1_bn\n",
            "block14_sepconv1_act\n",
            "block14_sepconv2\n",
            "block14_sepconv2_bn\n",
            "block14_sepconv2_act\n"
          ],
          "name": "stdout"
        }
      ]
    },
    {
      "cell_type": "markdown",
      "metadata": {
        "id": "MOxOw1XYLU75",
        "colab_type": "text"
      },
      "source": [
        "  * Now that we have the layer names we can proceed with the next step\n",
        "  * Freezing Layers\n",
        "    * To fine tune a convnet, you have to freeze all the layers in the convnet and test to see how accurate the model is, if it is not accurate enough you proceed with the actual fine-tuning\n",
        "  * Unfreezing layers\n",
        "    * To fine tune a convnet you have to unfreeze an amount of layers of your choice\n",
        "    * Unfreezing the layers allows the model to change the convnet to better fit the model you are using"
      ]
    },
    {
      "cell_type": "markdown",
      "metadata": {
        "id": "W283Yt5MN0fa",
        "colab_type": "text"
      },
      "source": [
        "**Here's an example of freezing the layers, and then unfreezing a specific amount**"
      ]
    },
    {
      "cell_type": "code",
      "metadata": {
        "id": "eeOAK2CBNzoi",
        "colab_type": "code",
        "colab": {}
      },
      "source": [
        "# Freezing the layers\n",
        "conv_base.trainable = False\n",
        "\n",
        "# Unfreezing the layers\n",
        "conv_base.trainable = True\n",
        "\n",
        "set_trainable = False\n",
        "for layer in conv_base.layers:\n",
        "  if layer.name == 'block3_pool': # any layer after block3_pool will be trainable\n",
        "    set_trainable = True\n",
        "  if set_trainable:\n",
        "    layer.trainable = True\n",
        "  else:\n",
        "    layer.trainable = False"
      ],
      "execution_count": 0,
      "outputs": []
    }
  ]
}